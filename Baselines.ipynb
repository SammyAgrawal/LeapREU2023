{
 "cells": [
  {
   "cell_type": "markdown",
   "id": "dc5749d3-5fc6-4ea8-bff0-8d3561cde4f2",
   "metadata": {},
   "source": [
    "# Baseline Artificial Neural Network"
   ]
  },
  {
   "cell_type": "code",
   "execution_count": 1,
   "id": "e1591015-9c50-4f74-a881-b36e1425a9d6",
   "metadata": {},
   "outputs": [],
   "source": [
    "import os\n",
    "import numpy as np\n",
    "import pandas as pd\n",
    "import matplotlib.pyplot as plt\n",
    "import xarray as xr\n",
    "from glob import glob\n",
    "\n",
    "%matplotlib inline\n",
    "%config InlineBackend.figure_format = 'retina'\n",
    "%load_ext autoreload\n",
    "%autoreload 2\n",
    "\n",
    "plt.rcParams['savefig.dpi'] = 400\n",
    "plt.rcParams['font.size'] = 13\n",
    "plt.rcParams[\"legend.frameon\"] = False"
   ]
  },
  {
   "cell_type": "markdown",
   "id": "82c888e3-6c31-48b2-8a68-374525c70d8a",
   "metadata": {
    "jp-MarkdownHeadingCollapsed": true,
    "tags": []
   },
   "source": [
    "## Load Data"
   ]
  },
  {
   "cell_type": "code",
   "execution_count": 2,
   "id": "328162a8-e7b9-4f00-95c0-ad86cc567418",
   "metadata": {},
   "outputs": [
    {
     "name": "stderr",
     "output_type": "stream",
     "text": [
      "/srv/conda/envs/notebook/lib/python3.10/site-packages/xarray/core/dataset.py:255: UserWarning: The specified Dask chunks separate the stored chunks along dimension \"sample\" starting at index 720. This could degrade performance. Instead, consider rechunking after loading.\n",
      "  warnings.warn(\n"
     ]
    },
    {
     "name": "stdout",
     "output_type": "stream",
     "text": [
      "Daily average\n"
     ]
    }
   ],
   "source": [
    "from utils2 import load_vars_xarray, split_input_output\n",
    "input_vars = 'state_q0001 state_t pbuf_SOLIN pbuf_LHFLX pbuf_SHFLX state_ps'.split()\n",
    "output_vars = ['state_q0001', 'state_t', 'cam_out_NETSW', 'cam_out_FLWDS', 'cam_out_PRECC']\n",
    "ds = load_vars_xarray(input_vars, output_vars, True, True)"
   ]
  },
  {
   "cell_type": "code",
   "execution_count": 5,
   "id": "7112f271-692a-4ab3-9046-1d69945b6cfc",
   "metadata": {},
   "outputs": [],
   "source": [
    "selected_levels = np.append(np.linspace(4, 24, 6), np.linspace(26, 59, 14)).astype(np.int32)\n",
    "ds = ds.isel(lev=selected_levels)\n",
    "ds = ds.isel(time = slice(0, 4*365), ncol=slice(0, 16))"
   ]
  },
  {
   "cell_type": "code",
   "execution_count": null,
   "id": "9379b7b8-257b-4932-8954-96703f980d3c",
   "metadata": {},
   "outputs": [
    {
     "name": "stdout",
     "output_type": "stream",
     "text": [
      "[######################################  ] | 96% Completed | 592.15 s"
     ]
    }
   ],
   "source": [
    "from dask.diagnostics import ProgressBar\n",
    "with ProgressBar():\n",
    "    ds.load()"
   ]
  },
  {
   "cell_type": "code",
   "execution_count": 8,
   "id": "ab19463d-b923-42f5-a9ee-67195b78a69f",
   "metadata": {},
   "outputs": [
    {
     "data": {
      "text/html": [
       "<div><svg style=\"position: absolute; width: 0; height: 0; overflow: hidden\">\n",
       "<defs>\n",
       "<symbol id=\"icon-database\" viewBox=\"0 0 32 32\">\n",
       "<path d=\"M16 0c-8.837 0-16 2.239-16 5v4c0 2.761 7.163 5 16 5s16-2.239 16-5v-4c0-2.761-7.163-5-16-5z\"></path>\n",
       "<path d=\"M16 17c-8.837 0-16-2.239-16-5v6c0 2.761 7.163 5 16 5s16-2.239 16-5v-6c0 2.761-7.163 5-16 5z\"></path>\n",
       "<path d=\"M16 26c-8.837 0-16-2.239-16-5v6c0 2.761 7.163 5 16 5s16-2.239 16-5v-6c0 2.761-7.163 5-16 5z\"></path>\n",
       "</symbol>\n",
       "<symbol id=\"icon-file-text2\" viewBox=\"0 0 32 32\">\n",
       "<path d=\"M28.681 7.159c-0.694-0.947-1.662-2.053-2.724-3.116s-2.169-2.030-3.116-2.724c-1.612-1.182-2.393-1.319-2.841-1.319h-15.5c-1.378 0-2.5 1.121-2.5 2.5v27c0 1.378 1.122 2.5 2.5 2.5h23c1.378 0 2.5-1.122 2.5-2.5v-19.5c0-0.448-0.137-1.23-1.319-2.841zM24.543 5.457c0.959 0.959 1.712 1.825 2.268 2.543h-4.811v-4.811c0.718 0.556 1.584 1.309 2.543 2.268zM28 29.5c0 0.271-0.229 0.5-0.5 0.5h-23c-0.271 0-0.5-0.229-0.5-0.5v-27c0-0.271 0.229-0.5 0.5-0.5 0 0 15.499-0 15.5 0v7c0 0.552 0.448 1 1 1h7v19.5z\"></path>\n",
       "<path d=\"M23 26h-14c-0.552 0-1-0.448-1-1s0.448-1 1-1h14c0.552 0 1 0.448 1 1s-0.448 1-1 1z\"></path>\n",
       "<path d=\"M23 22h-14c-0.552 0-1-0.448-1-1s0.448-1 1-1h14c0.552 0 1 0.448 1 1s-0.448 1-1 1z\"></path>\n",
       "<path d=\"M23 18h-14c-0.552 0-1-0.448-1-1s0.448-1 1-1h14c0.552 0 1 0.448 1 1s-0.448 1-1 1z\"></path>\n",
       "</symbol>\n",
       "</defs>\n",
       "</svg>\n",
       "<style>/* CSS stylesheet for displaying xarray objects in jupyterlab.\n",
       " *\n",
       " */\n",
       "\n",
       ":root {\n",
       "  --xr-font-color0: var(--jp-content-font-color0, rgba(0, 0, 0, 1));\n",
       "  --xr-font-color2: var(--jp-content-font-color2, rgba(0, 0, 0, 0.54));\n",
       "  --xr-font-color3: var(--jp-content-font-color3, rgba(0, 0, 0, 0.38));\n",
       "  --xr-border-color: var(--jp-border-color2, #e0e0e0);\n",
       "  --xr-disabled-color: var(--jp-layout-color3, #bdbdbd);\n",
       "  --xr-background-color: var(--jp-layout-color0, white);\n",
       "  --xr-background-color-row-even: var(--jp-layout-color1, white);\n",
       "  --xr-background-color-row-odd: var(--jp-layout-color2, #eeeeee);\n",
       "}\n",
       "\n",
       "html[theme=dark],\n",
       "body[data-theme=dark],\n",
       "body.vscode-dark {\n",
       "  --xr-font-color0: rgba(255, 255, 255, 1);\n",
       "  --xr-font-color2: rgba(255, 255, 255, 0.54);\n",
       "  --xr-font-color3: rgba(255, 255, 255, 0.38);\n",
       "  --xr-border-color: #1F1F1F;\n",
       "  --xr-disabled-color: #515151;\n",
       "  --xr-background-color: #111111;\n",
       "  --xr-background-color-row-even: #111111;\n",
       "  --xr-background-color-row-odd: #313131;\n",
       "}\n",
       "\n",
       ".xr-wrap {\n",
       "  display: block !important;\n",
       "  min-width: 300px;\n",
       "  max-width: 700px;\n",
       "}\n",
       "\n",
       ".xr-text-repr-fallback {\n",
       "  /* fallback to plain text repr when CSS is not injected (untrusted notebook) */\n",
       "  display: none;\n",
       "}\n",
       "\n",
       ".xr-header {\n",
       "  padding-top: 6px;\n",
       "  padding-bottom: 6px;\n",
       "  margin-bottom: 4px;\n",
       "  border-bottom: solid 1px var(--xr-border-color);\n",
       "}\n",
       "\n",
       ".xr-header > div,\n",
       ".xr-header > ul {\n",
       "  display: inline;\n",
       "  margin-top: 0;\n",
       "  margin-bottom: 0;\n",
       "}\n",
       "\n",
       ".xr-obj-type,\n",
       ".xr-array-name {\n",
       "  margin-left: 2px;\n",
       "  margin-right: 10px;\n",
       "}\n",
       "\n",
       ".xr-obj-type {\n",
       "  color: var(--xr-font-color2);\n",
       "}\n",
       "\n",
       ".xr-sections {\n",
       "  padding-left: 0 !important;\n",
       "  display: grid;\n",
       "  grid-template-columns: 150px auto auto 1fr 20px 20px;\n",
       "}\n",
       "\n",
       ".xr-section-item {\n",
       "  display: contents;\n",
       "}\n",
       "\n",
       ".xr-section-item input {\n",
       "  display: none;\n",
       "}\n",
       "\n",
       ".xr-section-item input + label {\n",
       "  color: var(--xr-disabled-color);\n",
       "}\n",
       "\n",
       ".xr-section-item input:enabled + label {\n",
       "  cursor: pointer;\n",
       "  color: var(--xr-font-color2);\n",
       "}\n",
       "\n",
       ".xr-section-item input:enabled + label:hover {\n",
       "  color: var(--xr-font-color0);\n",
       "}\n",
       "\n",
       ".xr-section-summary {\n",
       "  grid-column: 1;\n",
       "  color: var(--xr-font-color2);\n",
       "  font-weight: 500;\n",
       "}\n",
       "\n",
       ".xr-section-summary > span {\n",
       "  display: inline-block;\n",
       "  padding-left: 0.5em;\n",
       "}\n",
       "\n",
       ".xr-section-summary-in:disabled + label {\n",
       "  color: var(--xr-font-color2);\n",
       "}\n",
       "\n",
       ".xr-section-summary-in + label:before {\n",
       "  display: inline-block;\n",
       "  content: '►';\n",
       "  font-size: 11px;\n",
       "  width: 15px;\n",
       "  text-align: center;\n",
       "}\n",
       "\n",
       ".xr-section-summary-in:disabled + label:before {\n",
       "  color: var(--xr-disabled-color);\n",
       "}\n",
       "\n",
       ".xr-section-summary-in:checked + label:before {\n",
       "  content: '▼';\n",
       "}\n",
       "\n",
       ".xr-section-summary-in:checked + label > span {\n",
       "  display: none;\n",
       "}\n",
       "\n",
       ".xr-section-summary,\n",
       ".xr-section-inline-details {\n",
       "  padding-top: 4px;\n",
       "  padding-bottom: 4px;\n",
       "}\n",
       "\n",
       ".xr-section-inline-details {\n",
       "  grid-column: 2 / -1;\n",
       "}\n",
       "\n",
       ".xr-section-details {\n",
       "  display: none;\n",
       "  grid-column: 1 / -1;\n",
       "  margin-bottom: 5px;\n",
       "}\n",
       "\n",
       ".xr-section-summary-in:checked ~ .xr-section-details {\n",
       "  display: contents;\n",
       "}\n",
       "\n",
       ".xr-array-wrap {\n",
       "  grid-column: 1 / -1;\n",
       "  display: grid;\n",
       "  grid-template-columns: 20px auto;\n",
       "}\n",
       "\n",
       ".xr-array-wrap > label {\n",
       "  grid-column: 1;\n",
       "  vertical-align: top;\n",
       "}\n",
       "\n",
       ".xr-preview {\n",
       "  color: var(--xr-font-color3);\n",
       "}\n",
       "\n",
       ".xr-array-preview,\n",
       ".xr-array-data {\n",
       "  padding: 0 5px !important;\n",
       "  grid-column: 2;\n",
       "}\n",
       "\n",
       ".xr-array-data,\n",
       ".xr-array-in:checked ~ .xr-array-preview {\n",
       "  display: none;\n",
       "}\n",
       "\n",
       ".xr-array-in:checked ~ .xr-array-data,\n",
       ".xr-array-preview {\n",
       "  display: inline-block;\n",
       "}\n",
       "\n",
       ".xr-dim-list {\n",
       "  display: inline-block !important;\n",
       "  list-style: none;\n",
       "  padding: 0 !important;\n",
       "  margin: 0;\n",
       "}\n",
       "\n",
       ".xr-dim-list li {\n",
       "  display: inline-block;\n",
       "  padding: 0;\n",
       "  margin: 0;\n",
       "}\n",
       "\n",
       ".xr-dim-list:before {\n",
       "  content: '(';\n",
       "}\n",
       "\n",
       ".xr-dim-list:after {\n",
       "  content: ')';\n",
       "}\n",
       "\n",
       ".xr-dim-list li:not(:last-child):after {\n",
       "  content: ',';\n",
       "  padding-right: 5px;\n",
       "}\n",
       "\n",
       ".xr-has-index {\n",
       "  font-weight: bold;\n",
       "}\n",
       "\n",
       ".xr-var-list,\n",
       ".xr-var-item {\n",
       "  display: contents;\n",
       "}\n",
       "\n",
       ".xr-var-item > div,\n",
       ".xr-var-item label,\n",
       ".xr-var-item > .xr-var-name span {\n",
       "  background-color: var(--xr-background-color-row-even);\n",
       "  margin-bottom: 0;\n",
       "}\n",
       "\n",
       ".xr-var-item > .xr-var-name:hover span {\n",
       "  padding-right: 5px;\n",
       "}\n",
       "\n",
       ".xr-var-list > li:nth-child(odd) > div,\n",
       ".xr-var-list > li:nth-child(odd) > label,\n",
       ".xr-var-list > li:nth-child(odd) > .xr-var-name span {\n",
       "  background-color: var(--xr-background-color-row-odd);\n",
       "}\n",
       "\n",
       ".xr-var-name {\n",
       "  grid-column: 1;\n",
       "}\n",
       "\n",
       ".xr-var-dims {\n",
       "  grid-column: 2;\n",
       "}\n",
       "\n",
       ".xr-var-dtype {\n",
       "  grid-column: 3;\n",
       "  text-align: right;\n",
       "  color: var(--xr-font-color2);\n",
       "}\n",
       "\n",
       ".xr-var-preview {\n",
       "  grid-column: 4;\n",
       "}\n",
       "\n",
       ".xr-index-preview {\n",
       "  grid-column: 2 / 5;\n",
       "  color: var(--xr-font-color2);\n",
       "}\n",
       "\n",
       ".xr-var-name,\n",
       ".xr-var-dims,\n",
       ".xr-var-dtype,\n",
       ".xr-preview,\n",
       ".xr-attrs dt {\n",
       "  white-space: nowrap;\n",
       "  overflow: hidden;\n",
       "  text-overflow: ellipsis;\n",
       "  padding-right: 10px;\n",
       "}\n",
       "\n",
       ".xr-var-name:hover,\n",
       ".xr-var-dims:hover,\n",
       ".xr-var-dtype:hover,\n",
       ".xr-attrs dt:hover {\n",
       "  overflow: visible;\n",
       "  width: auto;\n",
       "  z-index: 1;\n",
       "}\n",
       "\n",
       ".xr-var-attrs,\n",
       ".xr-var-data,\n",
       ".xr-index-data {\n",
       "  display: none;\n",
       "  background-color: var(--xr-background-color) !important;\n",
       "  padding-bottom: 5px !important;\n",
       "}\n",
       "\n",
       ".xr-var-attrs-in:checked ~ .xr-var-attrs,\n",
       ".xr-var-data-in:checked ~ .xr-var-data,\n",
       ".xr-index-data-in:checked ~ .xr-index-data {\n",
       "  display: block;\n",
       "}\n",
       "\n",
       ".xr-var-data > table {\n",
       "  float: right;\n",
       "}\n",
       "\n",
       ".xr-var-name span,\n",
       ".xr-var-data,\n",
       ".xr-index-name div,\n",
       ".xr-index-data,\n",
       ".xr-attrs {\n",
       "  padding-left: 25px !important;\n",
       "}\n",
       "\n",
       ".xr-attrs,\n",
       ".xr-var-attrs,\n",
       ".xr-var-data,\n",
       ".xr-index-data {\n",
       "  grid-column: 1 / -1;\n",
       "}\n",
       "\n",
       "dl.xr-attrs {\n",
       "  padding: 0;\n",
       "  margin: 0;\n",
       "  display: grid;\n",
       "  grid-template-columns: 125px auto;\n",
       "}\n",
       "\n",
       ".xr-attrs dt,\n",
       ".xr-attrs dd {\n",
       "  padding: 0;\n",
       "  margin: 0;\n",
       "  float: left;\n",
       "  padding-right: 10px;\n",
       "  width: auto;\n",
       "}\n",
       "\n",
       ".xr-attrs dt {\n",
       "  font-weight: normal;\n",
       "  grid-column: 1;\n",
       "}\n",
       "\n",
       ".xr-attrs dt:hover span {\n",
       "  display: inline-block;\n",
       "  background: var(--xr-background-color);\n",
       "  padding-right: 10px;\n",
       "}\n",
       "\n",
       ".xr-attrs dd {\n",
       "  grid-column: 2;\n",
       "  white-space: pre-wrap;\n",
       "  word-break: break-all;\n",
       "}\n",
       "\n",
       ".xr-icon-database,\n",
       ".xr-icon-file-text2,\n",
       ".xr-no-icon {\n",
       "  display: inline-block;\n",
       "  vertical-align: middle;\n",
       "  width: 1em;\n",
       "  height: 1.5em !important;\n",
       "  stroke-width: 0;\n",
       "  stroke: currentColor;\n",
       "  fill: currentColor;\n",
       "}\n",
       "</style><pre class='xr-text-repr-fallback'>&lt;xarray.Dataset&gt;\n",
       "Dimensions:            (time: 1460, lev: 20, ncol: 16)\n",
       "Coordinates:\n",
       "  * time               (time) object 0001-02-01 12:00:00 ... 0005-01-31 12:00:00\n",
       "  * ncol               (ncol) int64 0 1 2 3 4 5 6 7 8 9 10 11 12 13 14 15\n",
       "    lat                (ncol) float64 -32.59 -35.99 -22.69 ... -25.37 -22.69\n",
       "    lon                (ncol) float64 -39.73 -28.47 -39.56 ... 39.73 28.31 39.56\n",
       "Dimensions without coordinates: lev\n",
       "Data variables:\n",
       "    state_q0001        (time, lev, ncol) float64 1.424e-06 1.455e-06 ... 0.01655\n",
       "    state_t            (time, lev, ncol) float64 257.8 258.9 ... 301.3 299.2\n",
       "    pbuf_SOLIN         (time, ncol) float64 477.9 475.6 476.4 ... 479.3 477.5\n",
       "    pbuf_LHFLX         (time, ncol) float64 77.19 113.1 184.8 ... 16.02 157.0\n",
       "    pbuf_SHFLX         (time, ncol) float64 3.864 9.653 51.89 ... 126.7 21.06\n",
       "    state_ps           (time, ncol) float64 1.011e+05 1.013e+05 ... 9.759e+04\n",
       "    out_state_q0001    (time, lev, ncol) float64 1.424e-06 1.455e-06 ... 0.01653\n",
       "    out_state_t        (time, lev, ncol) float64 257.8 258.9 ... 301.1 299.2\n",
       "    out_cam_out_NETSW  (time, ncol) float64 332.9 313.0 243.3 ... 259.3 268.9\n",
       "    out_cam_out_FLWDS  (time, ncol) float64 354.8 339.1 399.6 ... 407.3 419.9\n",
       "    out_cam_out_PRECC  (time, ncol) float64 2.325e-11 1.05e-09 ... 1.685e-08\n",
       "Attributes:\n",
       "    calendar:  NO_LEAP\n",
       "    fv_nphys:  2\n",
       "    ne:        4</pre><div class='xr-wrap' style='display:none'><div class='xr-header'><div class='xr-obj-type'>xarray.Dataset</div></div><ul class='xr-sections'><li class='xr-section-item'><input id='section-d2e83dea-0eab-484b-a650-6c1ce5650d77' class='xr-section-summary-in' type='checkbox' disabled ><label for='section-d2e83dea-0eab-484b-a650-6c1ce5650d77' class='xr-section-summary'  title='Expand/collapse section'>Dimensions:</label><div class='xr-section-inline-details'><ul class='xr-dim-list'><li><span class='xr-has-index'>time</span>: 1460</li><li><span>lev</span>: 20</li><li><span class='xr-has-index'>ncol</span>: 16</li></ul></div><div class='xr-section-details'></div></li><li class='xr-section-item'><input id='section-fd0d7833-c828-40ea-93cf-42362f936ba7' class='xr-section-summary-in' type='checkbox'  checked><label for='section-fd0d7833-c828-40ea-93cf-42362f936ba7' class='xr-section-summary' >Coordinates: <span>(4)</span></label><div class='xr-section-inline-details'></div><div class='xr-section-details'><ul class='xr-var-list'><li class='xr-var-item'><div class='xr-var-name'><span class='xr-has-index'>time</span></div><div class='xr-var-dims'>(time)</div><div class='xr-var-dtype'>object</div><div class='xr-var-preview xr-preview'>0001-02-01 12:00:00 ... 0005-01-...</div><input id='attrs-4a5f3b43-7141-40ef-8491-a861438e89cc' class='xr-var-attrs-in' type='checkbox' disabled><label for='attrs-4a5f3b43-7141-40ef-8491-a861438e89cc' title='Show/Hide attributes'><svg class='icon xr-icon-file-text2'><use xlink:href='#icon-file-text2'></use></svg></label><input id='data-ed10ee46-8264-4138-b1db-8d9b32f06ee7' class='xr-var-data-in' type='checkbox'><label for='data-ed10ee46-8264-4138-b1db-8d9b32f06ee7' title='Show/Hide data repr'><svg class='icon xr-icon-database'><use xlink:href='#icon-database'></use></svg></label><div class='xr-var-attrs'><dl class='xr-attrs'></dl></div><div class='xr-var-data'><pre>array([cftime.DatetimeNoLeap(1, 2, 1, 12, 0, 0, 0, has_year_zero=True),\n",
       "       cftime.DatetimeNoLeap(1, 2, 2, 12, 0, 0, 0, has_year_zero=True),\n",
       "       cftime.DatetimeNoLeap(1, 2, 3, 12, 0, 0, 0, has_year_zero=True), ...,\n",
       "       cftime.DatetimeNoLeap(5, 1, 29, 12, 0, 0, 0, has_year_zero=True),\n",
       "       cftime.DatetimeNoLeap(5, 1, 30, 12, 0, 0, 0, has_year_zero=True),\n",
       "       cftime.DatetimeNoLeap(5, 1, 31, 12, 0, 0, 0, has_year_zero=True)],\n",
       "      dtype=object)</pre></div></li><li class='xr-var-item'><div class='xr-var-name'><span class='xr-has-index'>ncol</span></div><div class='xr-var-dims'>(ncol)</div><div class='xr-var-dtype'>int64</div><div class='xr-var-preview xr-preview'>0 1 2 3 4 5 6 ... 10 11 12 13 14 15</div><input id='attrs-a31222c9-8d68-42ca-ac4c-580cfe9718eb' class='xr-var-attrs-in' type='checkbox' disabled><label for='attrs-a31222c9-8d68-42ca-ac4c-580cfe9718eb' title='Show/Hide attributes'><svg class='icon xr-icon-file-text2'><use xlink:href='#icon-file-text2'></use></svg></label><input id='data-0f016a78-d233-4d30-ac3c-e10bde73be1e' class='xr-var-data-in' type='checkbox'><label for='data-0f016a78-d233-4d30-ac3c-e10bde73be1e' title='Show/Hide data repr'><svg class='icon xr-icon-database'><use xlink:href='#icon-database'></use></svg></label><div class='xr-var-attrs'><dl class='xr-attrs'></dl></div><div class='xr-var-data'><pre>array([ 0,  1,  2,  3,  4,  5,  6,  7,  8,  9, 10, 11, 12, 13, 14, 15])</pre></div></li><li class='xr-var-item'><div class='xr-var-name'><span>lat</span></div><div class='xr-var-dims'>(ncol)</div><div class='xr-var-dtype'>float64</div><div class='xr-var-preview xr-preview'>-32.59 -35.99 ... -25.37 -22.69</div><input id='attrs-3c064dd3-14c3-4d1b-a23c-5d54536e92bd' class='xr-var-attrs-in' type='checkbox' disabled><label for='attrs-3c064dd3-14c3-4d1b-a23c-5d54536e92bd' title='Show/Hide attributes'><svg class='icon xr-icon-file-text2'><use xlink:href='#icon-file-text2'></use></svg></label><input id='data-e13bcbdb-90ca-4691-8fd2-7e89ee4cd3f7' class='xr-var-data-in' type='checkbox'><label for='data-e13bcbdb-90ca-4691-8fd2-7e89ee4cd3f7' title='Show/Hide data repr'><svg class='icon xr-icon-database'><use xlink:href='#icon-database'></use></svg></label><div class='xr-var-attrs'><dl class='xr-attrs'></dl></div><div class='xr-var-data'><pre>array([-32.59, -35.99, -22.69, -25.37, -38.2 , -39.26, -27.16, -28.03,\n",
       "       -39.26, -38.2 , -28.03, -27.16, -35.99, -32.59, -25.37, -22.69])</pre></div></li><li class='xr-var-item'><div class='xr-var-name'><span>lon</span></div><div class='xr-var-dims'>(ncol)</div><div class='xr-var-dtype'>float64</div><div class='xr-var-preview xr-preview'>-39.73 -28.47 ... 28.31 39.56</div><input id='attrs-7150357f-0392-4912-a297-cb5faa44f471' class='xr-var-attrs-in' type='checkbox' disabled><label for='attrs-7150357f-0392-4912-a297-cb5faa44f471' title='Show/Hide attributes'><svg class='icon xr-icon-file-text2'><use xlink:href='#icon-file-text2'></use></svg></label><input id='data-2a3c31d4-4507-4b31-9cdd-c388d52df83d' class='xr-var-data-in' type='checkbox'><label for='data-2a3c31d4-4507-4b31-9cdd-c388d52df83d' title='Show/Hide data repr'><svg class='icon xr-icon-database'><use xlink:href='#icon-database'></use></svg></label><div class='xr-var-attrs'><dl class='xr-attrs'></dl></div><div class='xr-var-data'><pre>array([-39.73, -28.47, -39.56, -28.31, -17.02,  -5.73, -16.96,  -5.68,\n",
       "         5.73,  17.02,   5.68,  16.96,  28.47,  39.73,  28.31,  39.56])</pre></div></li></ul></div></li><li class='xr-section-item'><input id='section-a7d7472b-906b-4257-b399-b574f9d95960' class='xr-section-summary-in' type='checkbox'  checked><label for='section-a7d7472b-906b-4257-b399-b574f9d95960' class='xr-section-summary' >Data variables: <span>(11)</span></label><div class='xr-section-inline-details'></div><div class='xr-section-details'><ul class='xr-var-list'><li class='xr-var-item'><div class='xr-var-name'><span>state_q0001</span></div><div class='xr-var-dims'>(time, lev, ncol)</div><div class='xr-var-dtype'>float64</div><div class='xr-var-preview xr-preview'>1.424e-06 1.455e-06 ... 0.01655</div><input id='attrs-0d95fff6-71e8-44bd-8521-1be9e67bcc3f' class='xr-var-attrs-in' type='checkbox' disabled><label for='attrs-0d95fff6-71e8-44bd-8521-1be9e67bcc3f' title='Show/Hide attributes'><svg class='icon xr-icon-file-text2'><use xlink:href='#icon-file-text2'></use></svg></label><input id='data-c735be75-76a1-4efb-932c-2f835aa57e3d' class='xr-var-data-in' type='checkbox'><label for='data-c735be75-76a1-4efb-932c-2f835aa57e3d' title='Show/Hide data repr'><svg class='icon xr-icon-database'><use xlink:href='#icon-database'></use></svg></label><div class='xr-var-attrs'><dl class='xr-attrs'></dl></div><div class='xr-var-data'><pre>array([[[1.42435661e-06, 1.45463743e-06, 1.34096357e-06, ...,\n",
       "         1.44345872e-06, 1.36434603e-06, 1.33115903e-06],\n",
       "        [1.40707204e-06, 1.46795225e-06, 1.21448970e-06, ...,\n",
       "         1.39701859e-06, 1.22923636e-06, 1.17989925e-06],\n",
       "        [1.20290691e-06, 1.21249063e-06, 1.11783848e-06, ...,\n",
       "         1.21065516e-06, 1.16321919e-06, 1.12644932e-06],\n",
       "        ...,\n",
       "        [9.84117676e-03, 8.23394642e-03, 1.22807263e-02, ...,\n",
       "         1.04495442e-02, 1.01165405e-02, 1.16160006e-02],\n",
       "        [1.02214058e-02, 8.84310853e-03, 1.27945090e-02, ...,\n",
       "         1.10552485e-02, 1.03326283e-02, 1.18459261e-02],\n",
       "        [1.03674572e-02, 9.02662502e-03, 1.30679513e-02, ...,\n",
       "         1.15405548e-02, 1.07549105e-02, 1.20929607e-02]],\n",
       "\n",
       "       [[1.43937352e-06, 1.46600396e-06, 1.34819151e-06, ...,\n",
       "         1.45074461e-06, 1.37671917e-06, 1.35713308e-06],\n",
       "        [1.41036313e-06, 1.48009356e-06, 1.19794730e-06, ...,\n",
       "         1.38747106e-06, 1.24773591e-06, 1.20433040e-06],\n",
       "        [1.19792406e-06, 1.21039699e-06, 1.11280304e-06, ...,\n",
       "         1.21015769e-06, 1.15923175e-06, 1.12175389e-06],\n",
       "...\n",
       "        [1.16967723e-02, 1.05298417e-02, 1.37671701e-02, ...,\n",
       "         1.07541163e-02, 1.08055782e-02, 1.46489703e-02],\n",
       "        [1.31772839e-02, 1.15042974e-02, 1.47424340e-02, ...,\n",
       "         1.25455332e-02, 1.09918685e-02, 1.62203864e-02],\n",
       "        [1.50964151e-02, 1.30677860e-02, 1.52653453e-02, ...,\n",
       "         1.28497246e-02, 1.12109033e-02, 1.68347039e-02]],\n",
       "\n",
       "       [[1.94970377e-06, 1.94845636e-06, 1.95424747e-06, ...,\n",
       "         1.94923939e-06, 1.95199789e-06, 1.95341425e-06],\n",
       "        [1.93024247e-06, 1.91926335e-06, 1.98605959e-06, ...,\n",
       "         1.94088541e-06, 1.97217734e-06, 1.98481725e-06],\n",
       "        [1.70802195e-06, 1.68916124e-06, 1.80254174e-06, ...,\n",
       "         1.74497032e-06, 1.80119638e-06, 1.85853814e-06],\n",
       "        ...,\n",
       "        [1.03903731e-02, 9.02458858e-03, 1.41325476e-02, ...,\n",
       "         1.17615667e-02, 1.03084356e-02, 1.47071309e-02],\n",
       "        [1.19350224e-02, 1.04761270e-02, 1.51802087e-02, ...,\n",
       "         1.38081196e-02, 1.05248895e-02, 1.61788182e-02],\n",
       "        [1.22556798e-02, 1.15178922e-02, 1.60866714e-02, ...,\n",
       "         1.42050175e-02, 1.08706531e-02, 1.65546756e-02]]])</pre></div></li><li class='xr-var-item'><div class='xr-var-name'><span>state_t</span></div><div class='xr-var-dims'>(time, lev, ncol)</div><div class='xr-var-dtype'>float64</div><div class='xr-var-preview xr-preview'>257.8 258.9 256.1 ... 301.3 299.2</div><input id='attrs-3eb9193b-431d-4a37-a4aa-08f3bcef22e3' class='xr-var-attrs-in' type='checkbox' disabled><label for='attrs-3eb9193b-431d-4a37-a4aa-08f3bcef22e3' title='Show/Hide attributes'><svg class='icon xr-icon-file-text2'><use xlink:href='#icon-file-text2'></use></svg></label><input id='data-5d4ac400-c1c6-4694-b313-01f920ba8be7' class='xr-var-data-in' type='checkbox'><label for='data-5d4ac400-c1c6-4694-b313-01f920ba8be7' title='Show/Hide data repr'><svg class='icon xr-icon-database'><use xlink:href='#icon-database'></use></svg></label><div class='xr-var-attrs'><dl class='xr-attrs'></dl></div><div class='xr-var-data'><pre>array([[[257.82975936, 258.91954537, 256.06727815, ..., 256.30539348,\n",
       "         254.67342972, 253.92471671],\n",
       "        [243.46057377, 244.08728676, 241.10067275, ..., 244.01237007,\n",
       "         240.92539233, 240.12787267],\n",
       "        [222.50003245, 224.08711528, 219.73509259, ..., 221.48915961,\n",
       "         219.37556221, 219.21346665],\n",
       "        ...,\n",
       "        [287.23165878, 284.33194845, 290.38246987, ..., 288.70239121,\n",
       "         291.75560928, 291.04407426],\n",
       "        [290.86931872, 287.7894869 , 293.90282114, ..., 292.10034092,\n",
       "         295.17447847, 294.68380069],\n",
       "        [294.59866748, 291.44598935, 297.68555387, ..., 295.51519385,\n",
       "         297.94696302, 298.40626308]],\n",
       "\n",
       "       [[258.00663594, 258.55860316, 256.64654035, ..., 256.07250989,\n",
       "         254.73678335, 254.28172528],\n",
       "        [242.76716462, 243.7678096 , 240.32579152, ..., 244.27372047,\n",
       "         240.88785871, 240.05889335],\n",
       "        [222.23980805, 223.82298007, 219.13214852, ..., 221.7761204 ,\n",
       "         219.74736065, 219.46050235],\n",
       "...\n",
       "        [289.89952105, 287.58938042, 292.24928419, ..., 288.70835377,\n",
       "         293.06454893, 292.59597779],\n",
       "        [292.7314414 , 290.39194106, 295.55996162, ..., 291.38744145,\n",
       "         296.59160332, 295.26032021],\n",
       "        [295.64150505, 293.17266853, 299.12473988, ..., 295.01537905,\n",
       "         299.98496953, 298.6253761 ]],\n",
       "\n",
       "       [[254.8481635 , 256.34697028, 252.83860613, ..., 257.21794864,\n",
       "         256.55848027, 256.71119636],\n",
       "        [242.78288958, 243.9035381 , 240.16655282, ..., 242.35389477,\n",
       "         238.23336724, 237.22303077],\n",
       "        [221.2700754 , 222.35004975, 217.42617547, ..., 220.86424565,\n",
       "         219.13464067, 218.12932638],\n",
       "        ...,\n",
       "        [287.58836742, 286.20114082, 292.49607945, ..., 290.27694121,\n",
       "         294.63396055, 292.62101711],\n",
       "        [290.41697921, 288.68008539, 295.6813109 , ..., 293.03740489,\n",
       "         298.11195572, 295.61641195],\n",
       "        [294.05871173, 291.89960461, 299.00355041, ..., 296.63813695,\n",
       "         301.25714163, 299.24853651]]])</pre></div></li><li class='xr-var-item'><div class='xr-var-name'><span>pbuf_SOLIN</span></div><div class='xr-var-dims'>(time, ncol)</div><div class='xr-var-dtype'>float64</div><div class='xr-var-preview xr-preview'>477.9 475.6 476.4 ... 479.3 477.5</div><input id='attrs-77c3391b-b7e6-4330-acd6-55af419f22da' class='xr-var-attrs-in' type='checkbox' disabled><label for='attrs-77c3391b-b7e6-4330-acd6-55af419f22da' title='Show/Hide attributes'><svg class='icon xr-icon-file-text2'><use xlink:href='#icon-file-text2'></use></svg></label><input id='data-407862d7-3c06-4e3c-8878-9798c8cf08a1' class='xr-var-data-in' type='checkbox'><label for='data-407862d7-3c06-4e3c-8878-9798c8cf08a1' title='Show/Hide data repr'><svg class='icon xr-icon-database'><use xlink:href='#icon-database'></use></svg></label><div class='xr-var-attrs'><dl class='xr-attrs'></dl></div><div class='xr-var-data'><pre>array([[477.85275362, 475.55673108, 476.42061047, ..., 478.20446813,\n",
       "        478.25219059, 476.62117391],\n",
       "       [476.2365785 , 473.70007561, 475.4914086 , ..., 476.59642002,\n",
       "        477.14477718, 475.69799516],\n",
       "       [474.58375198, 471.80387526, 474.53472321, ..., 474.95164668,\n",
       "        476.00726989, 474.74735324],\n",
       "       ...,\n",
       "       [482.47815335, 480.88461143, 479.04435976, ..., 482.8050721 ,\n",
       "        481.39396361, 479.2270023 ],\n",
       "       [480.97384997, 479.14946257, 478.19696975, ..., 481.3091003 ,\n",
       "        480.37677273, 478.38555869],\n",
       "       [479.43194921, 477.37334886, 477.32242733, ..., 479.77546571,\n",
       "        479.32952065, 477.51699071]])</pre></div></li><li class='xr-var-item'><div class='xr-var-name'><span>pbuf_LHFLX</span></div><div class='xr-var-dims'>(time, ncol)</div><div class='xr-var-dtype'>float64</div><div class='xr-var-preview xr-preview'>77.19 113.1 184.8 ... 16.02 157.0</div><input id='attrs-669aee21-381a-4d93-ae78-6ef2d90f8a1f' class='xr-var-attrs-in' type='checkbox' disabled><label for='attrs-669aee21-381a-4d93-ae78-6ef2d90f8a1f' title='Show/Hide attributes'><svg class='icon xr-icon-file-text2'><use xlink:href='#icon-file-text2'></use></svg></label><input id='data-146d764e-9d98-4cee-8250-94aef1b8b93d' class='xr-var-data-in' type='checkbox'><label for='data-146d764e-9d98-4cee-8250-94aef1b8b93d' title='Show/Hide data repr'><svg class='icon xr-icon-database'><use xlink:href='#icon-database'></use></svg></label><div class='xr-var-attrs'><dl class='xr-attrs'></dl></div><div class='xr-var-data'><pre>array([[ 77.19105379, 113.14317509, 184.76566559, ..., 148.15437426,\n",
       "         70.30083434, 221.50967316],\n",
       "       [ 70.44629366, 103.17761302, 168.17747097, ..., 102.29760219,\n",
       "         58.63801971, 156.40262601],\n",
       "       [ 84.00945472,  78.90209867, 138.78070088, ...,  87.68390453,\n",
       "         44.12904947, 165.39040606],\n",
       "       ...,\n",
       "       [ 45.7366604 ,  46.73441514, 121.40255847, ..., 101.05850024,\n",
       "         24.16980857, 106.02632511],\n",
       "       [ 22.96079616,  19.52029921,  96.97268907, ..., 123.56249793,\n",
       "         18.27862786, 164.55770529],\n",
       "       [ 95.71986131,  57.0855257 ,  97.93052784, ...,  72.74029153,\n",
       "         16.02040059, 157.02282038]])</pre></div></li><li class='xr-var-item'><div class='xr-var-name'><span>pbuf_SHFLX</span></div><div class='xr-var-dims'>(time, ncol)</div><div class='xr-var-dtype'>float64</div><div class='xr-var-preview xr-preview'>3.864 9.653 51.89 ... 126.7 21.06</div><input id='attrs-03c7fc77-2227-43da-a52c-f21a1d0076e1' class='xr-var-attrs-in' type='checkbox' disabled><label for='attrs-03c7fc77-2227-43da-a52c-f21a1d0076e1' title='Show/Hide attributes'><svg class='icon xr-icon-file-text2'><use xlink:href='#icon-file-text2'></use></svg></label><input id='data-703eaf76-bf92-4dff-829d-e15deb3da444' class='xr-var-data-in' type='checkbox'><label for='data-703eaf76-bf92-4dff-829d-e15deb3da444' title='Show/Hide data repr'><svg class='icon xr-icon-database'><use xlink:href='#icon-database'></use></svg></label><div class='xr-var-attrs'><dl class='xr-attrs'></dl></div><div class='xr-var-data'><pre>array([[  3.86407077,   9.65281282,  51.89344202, ...,  10.76253336,\n",
       "         91.18571937,  27.48301637],\n",
       "       [  3.21205654,  10.93089299,  50.26519463, ...,   5.0974439 ,\n",
       "        100.03782536,  21.29137062],\n",
       "       [  3.49212372,   9.48659657,  47.34525619, ...,  -0.83747577,\n",
       "        104.02700108,  16.01249034],\n",
       "       ...,\n",
       "       [ -1.04461424,   4.41398248,  23.92402821, ...,  16.20124128,\n",
       "        130.69925012,  18.08588528],\n",
       "       [ -0.1781975 ,  -2.33475036,  21.14177609, ...,  14.90775974,\n",
       "        132.51256021,  24.29833859],\n",
       "       [ 10.99262491,   5.76339823,  23.1398396 , ...,   1.46710574,\n",
       "        126.65643169,  21.05526209]])</pre></div></li><li class='xr-var-item'><div class='xr-var-name'><span>state_ps</span></div><div class='xr-var-dims'>(time, ncol)</div><div class='xr-var-dtype'>float64</div><div class='xr-var-preview xr-preview'>1.011e+05 1.013e+05 ... 9.759e+04</div><input id='attrs-7b86cc7c-2dd2-40b0-a6e0-91b21a738f93' class='xr-var-attrs-in' type='checkbox' disabled><label for='attrs-7b86cc7c-2dd2-40b0-a6e0-91b21a738f93' title='Show/Hide attributes'><svg class='icon xr-icon-file-text2'><use xlink:href='#icon-file-text2'></use></svg></label><input id='data-40c2e134-b341-4fb2-8516-1b2944a47f00' class='xr-var-data-in' type='checkbox'><label for='data-40c2e134-b341-4fb2-8516-1b2944a47f00' title='Show/Hide data repr'><svg class='icon xr-icon-database'><use xlink:href='#icon-database'></use></svg></label><div class='xr-var-attrs'><dl class='xr-attrs'></dl></div><div class='xr-var-data'><pre>array([[101054.03908829, 101328.09990415,  99055.3622157 , ...,\n",
       "        100350.79399206,  94794.05680205,  98523.54172283],\n",
       "       [100985.92769983, 101427.2069213 ,  98997.66782977, ...,\n",
       "        100122.37158695,  94502.50249227,  98461.28865822],\n",
       "       [100898.98253314, 101609.77297949,  98935.21775703, ...,\n",
       "         99711.55977568,  94195.79748522,  98264.48034137],\n",
       "       ...,\n",
       "       [100618.00345767, 101447.45230194,  99125.14760101, ...,\n",
       "         99801.06280644,  94084.58088535,  97507.86609677],\n",
       "       [100575.44692309, 101045.57717426,  99142.64883763, ...,\n",
       "         99956.40980106,  94070.57125905,  97516.52205241],\n",
       "       [101025.26304526, 101225.3077179 ,  99163.46007051, ...,\n",
       "         99733.21340771,  93898.40327675,  97593.07641859]])</pre></div></li><li class='xr-var-item'><div class='xr-var-name'><span>out_state_q0001</span></div><div class='xr-var-dims'>(time, lev, ncol)</div><div class='xr-var-dtype'>float64</div><div class='xr-var-preview xr-preview'>1.424e-06 1.455e-06 ... 0.01653</div><input id='attrs-1bdb30dc-e3e4-4f15-9e71-cefee4827248' class='xr-var-attrs-in' type='checkbox' disabled><label for='attrs-1bdb30dc-e3e4-4f15-9e71-cefee4827248' title='Show/Hide attributes'><svg class='icon xr-icon-file-text2'><use xlink:href='#icon-file-text2'></use></svg></label><input id='data-90ce8c93-e55e-41d1-9959-390264465e6c' class='xr-var-data-in' type='checkbox'><label for='data-90ce8c93-e55e-41d1-9959-390264465e6c' title='Show/Hide data repr'><svg class='icon xr-icon-database'><use xlink:href='#icon-database'></use></svg></label><div class='xr-var-attrs'><dl class='xr-attrs'></dl></div><div class='xr-var-data'><pre>array([[[1.42435661e-06, 1.45463743e-06, 1.34096357e-06, ...,\n",
       "         1.44345872e-06, 1.36434603e-06, 1.33115903e-06],\n",
       "        [1.40707204e-06, 1.46795225e-06, 1.21448970e-06, ...,\n",
       "         1.39701859e-06, 1.22923636e-06, 1.17989925e-06],\n",
       "        [1.20291375e-06, 1.21250275e-06, 1.11783297e-06, ...,\n",
       "         1.21070637e-06, 1.16320637e-06, 1.12642429e-06],\n",
       "        ...,\n",
       "        [9.79838469e-03, 8.19212653e-03, 1.22161691e-02, ...,\n",
       "         1.03995627e-02, 1.01139288e-02, 1.15164777e-02],\n",
       "        [1.02127318e-02, 8.82475968e-03, 1.27570942e-02, ...,\n",
       "         1.10269128e-02, 1.03352179e-02, 1.18317330e-02],\n",
       "        [1.03617046e-02, 9.01549301e-03, 1.30184918e-02, ...,\n",
       "         1.14971630e-02, 1.07381512e-02, 1.20863910e-02]],\n",
       "\n",
       "       [[1.43937352e-06, 1.46600396e-06, 1.34819151e-06, ...,\n",
       "         1.45074461e-06, 1.37671917e-06, 1.35713308e-06],\n",
       "        [1.41036313e-06, 1.48009356e-06, 1.19794730e-06, ...,\n",
       "         1.38747106e-06, 1.24773591e-06, 1.20433040e-06],\n",
       "        [1.19792331e-06, 1.21041450e-06, 1.11279849e-06, ...,\n",
       "         1.21019037e-06, 1.15921895e-06, 1.12173339e-06],\n",
       "...\n",
       "        [1.16996176e-02, 1.05331057e-02, 1.37229756e-02, ...,\n",
       "         1.07688706e-02, 1.08047801e-02, 1.46084024e-02],\n",
       "        [1.31791836e-02, 1.14861075e-02, 1.47050538e-02, ...,\n",
       "         1.24649413e-02, 1.09876386e-02, 1.61205838e-02],\n",
       "        [1.50893193e-02, 1.30376254e-02, 1.52375774e-02, ...,\n",
       "         1.28325472e-02, 1.12075351e-02, 1.67703727e-02]],\n",
       "\n",
       "       [[1.94970377e-06, 1.94845636e-06, 1.95424747e-06, ...,\n",
       "         1.94923939e-06, 1.95199789e-06, 1.95341425e-06],\n",
       "        [1.93024247e-06, 1.91926335e-06, 1.98605959e-06, ...,\n",
       "         1.94088541e-06, 1.97217734e-06, 1.98481725e-06],\n",
       "        [1.70800130e-06, 1.68913481e-06, 1.80254174e-06, ...,\n",
       "         1.74496931e-06, 1.80115346e-06, 1.85847254e-06],\n",
       "        ...,\n",
       "        [1.03770476e-02, 9.02572036e-03, 1.40813519e-02, ...,\n",
       "         1.17828985e-02, 1.03168806e-02, 1.46821203e-02],\n",
       "        [1.18776781e-02, 1.04361120e-02, 1.51462735e-02, ...,\n",
       "         1.37748708e-02, 1.05309605e-02, 1.60769965e-02],\n",
       "        [1.22373783e-02, 1.14808862e-02, 1.60525120e-02, ...,\n",
       "         1.41793012e-02, 1.08994845e-02, 1.65266051e-02]]])</pre></div></li><li class='xr-var-item'><div class='xr-var-name'><span>out_state_t</span></div><div class='xr-var-dims'>(time, lev, ncol)</div><div class='xr-var-dtype'>float64</div><div class='xr-var-preview xr-preview'>257.8 258.9 256.1 ... 301.1 299.2</div><input id='attrs-8c3c8c09-dd42-472e-8bad-08c550adce9e' class='xr-var-attrs-in' type='checkbox' disabled><label for='attrs-8c3c8c09-dd42-472e-8bad-08c550adce9e' title='Show/Hide attributes'><svg class='icon xr-icon-file-text2'><use xlink:href='#icon-file-text2'></use></svg></label><input id='data-7c107c92-9c06-4b32-9228-3f69c6128a7a' class='xr-var-data-in' type='checkbox'><label for='data-7c107c92-9c06-4b32-9228-3f69c6128a7a' title='Show/Hide data repr'><svg class='icon xr-icon-database'><use xlink:href='#icon-database'></use></svg></label><div class='xr-var-attrs'><dl class='xr-attrs'></dl></div><div class='xr-var-data'><pre>array([[[257.84299514, 258.93154859, 256.08412034, ..., 256.3240588 ,\n",
       "         254.69588784, 253.94893149],\n",
       "        [243.46881859, 244.09552866, 241.11394165, ..., 244.02071967,\n",
       "         240.94016811, 240.14534317],\n",
       "        [222.50228094, 224.08824921, 219.74038895, ..., 221.49492805,\n",
       "         219.38266116, 219.22144598],\n",
       "        ...,\n",
       "        [287.23630477, 284.34087328, 290.42837345, ..., 288.71979585,\n",
       "         291.74390288, 291.07789177],\n",
       "        [290.85814402, 287.78539899, 293.91191994, ..., 292.10059927,\n",
       "         295.14708763, 294.67745611],\n",
       "        [294.57508858, 291.40995714, 297.56473288, ..., 295.38521574,\n",
       "         297.86785821, 298.28977314]],\n",
       "\n",
       "       [[258.01889671, 258.57142106, 256.66139162, ..., 256.09096945,\n",
       "         254.75845317, 254.30371613],\n",
       "        [242.77693924, 243.7767481 , 240.34016532, ..., 244.28034711,\n",
       "         240.90210427, 240.07470827],\n",
       "        [222.24237129, 223.82460729, 219.13768533, ..., 221.78094716,\n",
       "         219.75426045, 219.46747583],\n",
       "...\n",
       "        [289.87477479, 287.58139292, 292.27199608, ..., 288.71816507,\n",
       "         293.05186775, 292.67853778],\n",
       "        [292.70937888, 290.38841096, 295.56297767, ..., 291.41551668,\n",
       "         296.56954   , 295.32437991],\n",
       "        [295.61152013, 293.15701052, 299.03281506, ..., 294.96270322,\n",
       "         299.86921532, 298.47913235]],\n",
       "\n",
       "       [[254.8712089 , 256.36689873, 252.86697217, ..., 257.23121153,\n",
       "         256.57295911, 256.72277272],\n",
       "        [242.79268246, 243.91297446, 240.17975707, ..., 242.36423052,\n",
       "         238.25371153, 237.24498538],\n",
       "        [221.27368858, 222.35319572, 217.43374429, ..., 220.86924755,\n",
       "         219.14048263, 218.13626533],\n",
       "        ...,\n",
       "        [287.60276989, 286.21821439, 292.52286171, ..., 290.25166129,\n",
       "         294.6001929 , 292.66234951],\n",
       "        [290.42674782, 288.70133794, 295.68309884, ..., 293.0331495 ,\n",
       "         298.0643768 , 295.65151845],\n",
       "        [294.01799208, 291.8555791 , 298.90864953, ..., 296.59301127,\n",
       "         301.12593899, 299.15772966]]])</pre></div></li><li class='xr-var-item'><div class='xr-var-name'><span>out_cam_out_NETSW</span></div><div class='xr-var-dims'>(time, ncol)</div><div class='xr-var-dtype'>float64</div><div class='xr-var-preview xr-preview'>332.9 313.0 243.3 ... 259.3 268.9</div><input id='attrs-a932f161-480f-4ecc-a151-b1d845682b6b' class='xr-var-attrs-in' type='checkbox' disabled><label for='attrs-a932f161-480f-4ecc-a151-b1d845682b6b' title='Show/Hide attributes'><svg class='icon xr-icon-file-text2'><use xlink:href='#icon-file-text2'></use></svg></label><input id='data-c6bb689f-1a6f-4445-bc1e-9132aa3fea33' class='xr-var-data-in' type='checkbox'><label for='data-c6bb689f-1a6f-4445-bc1e-9132aa3fea33' title='Show/Hide data repr'><svg class='icon xr-icon-database'><use xlink:href='#icon-database'></use></svg></label><div class='xr-var-attrs'><dl class='xr-attrs'></dl></div><div class='xr-var-data'><pre>array([[332.89148046, 313.02960262, 243.33093592, ..., 286.45292081,\n",
       "        277.51976037, 267.59816635],\n",
       "       [325.33050452, 292.55227314, 257.95167973, ..., 294.84614208,\n",
       "        295.97423754, 303.59430047],\n",
       "       [305.53434567, 304.66887998, 268.62985845, ..., 311.81941135,\n",
       "        273.54608761, 318.60843645],\n",
       "       ...,\n",
       "       [336.52778839, 308.72163207, 261.7778244 , ..., 195.86162151,\n",
       "        235.84694705, 251.42262466],\n",
       "       [335.76432897, 263.42986418, 267.91836244, ..., 288.99734517,\n",
       "        255.02516464, 230.24760098],\n",
       "       [278.53548505, 225.82224436, 263.28371667, ..., 319.99360389,\n",
       "        259.26506305, 268.92712746]])</pre></div></li><li class='xr-var-item'><div class='xr-var-name'><span>out_cam_out_FLWDS</span></div><div class='xr-var-dims'>(time, ncol)</div><div class='xr-var-dtype'>float64</div><div class='xr-var-preview xr-preview'>354.8 339.1 399.6 ... 407.3 419.9</div><input id='attrs-6aa703ff-057a-4978-ab8f-f886ee7ef380' class='xr-var-attrs-in' type='checkbox' disabled><label for='attrs-6aa703ff-057a-4978-ab8f-f886ee7ef380' title='Show/Hide attributes'><svg class='icon xr-icon-file-text2'><use xlink:href='#icon-file-text2'></use></svg></label><input id='data-8fa90892-e38a-441b-ad8b-2dcccdf6a58f' class='xr-var-data-in' type='checkbox'><label for='data-8fa90892-e38a-441b-ad8b-2dcccdf6a58f' title='Show/Hide data repr'><svg class='icon xr-icon-database'><use xlink:href='#icon-database'></use></svg></label><div class='xr-var-attrs'><dl class='xr-attrs'></dl></div><div class='xr-var-data'><pre>array([[354.78234512, 339.10568837, 399.59024469, ..., 375.27254845,\n",
       "        377.53666018, 394.50581277],\n",
       "       [358.13023309, 347.04394312, 400.06408322, ..., 375.77993745,\n",
       "        381.88351399, 389.34540989],\n",
       "       [367.80553307, 341.54052469, 400.21816687, ..., 386.41335057,\n",
       "        400.24229785, 394.63105987],\n",
       "       ...,\n",
       "       [374.93124801, 356.25177632, 405.03208885, ..., 396.63461401,\n",
       "        407.71112878, 425.64854903],\n",
       "       [375.74182469, 378.1544007 , 407.76479766, ..., 381.36548569,\n",
       "        401.93182633, 423.02951291],\n",
       "       [377.96313991, 372.31915449, 411.41493667, ..., 383.58075562,\n",
       "        407.26151092, 419.93701108]])</pre></div></li><li class='xr-var-item'><div class='xr-var-name'><span>out_cam_out_PRECC</span></div><div class='xr-var-dims'>(time, ncol)</div><div class='xr-var-dtype'>float64</div><div class='xr-var-preview xr-preview'>2.325e-11 1.05e-09 ... 1.685e-08</div><input id='attrs-964b406b-2c8c-46d3-bb57-df15a1b06e77' class='xr-var-attrs-in' type='checkbox' disabled><label for='attrs-964b406b-2c8c-46d3-bb57-df15a1b06e77' title='Show/Hide attributes'><svg class='icon xr-icon-file-text2'><use xlink:href='#icon-file-text2'></use></svg></label><input id='data-cf1e421a-c1fc-4d7b-b532-f45f616c346a' class='xr-var-data-in' type='checkbox'><label for='data-cf1e421a-c1fc-4d7b-b532-f45f616c346a' title='Show/Hide data repr'><svg class='icon xr-icon-database'><use xlink:href='#icon-database'></use></svg></label><div class='xr-var-attrs'><dl class='xr-attrs'></dl></div><div class='xr-var-data'><pre>array([[2.32476837e-11, 1.04950738e-09, 4.14145668e-09, ...,\n",
       "        1.34869821e-08, 2.25204719e-09, 5.64322945e-09],\n",
       "       [1.74699229e-10, 1.16018125e-09, 3.29346501e-09, ...,\n",
       "        5.92456362e-09, 1.62699020e-10, 4.59665202e-09],\n",
       "       [9.36988777e-10, 5.78873251e-10, 1.17509083e-09, ...,\n",
       "        1.55428815e-08, 4.19578509e-09, 3.49469010e-12],\n",
       "       ...,\n",
       "       [0.00000000e+00, 6.96966600e-10, 2.56686751e-09, ...,\n",
       "        6.49427519e-08, 2.94518505e-09, 7.43965773e-08],\n",
       "       [0.00000000e+00, 2.04336136e-09, 5.49970553e-09, ...,\n",
       "        6.69384716e-09, 1.06926940e-09, 4.06893036e-08],\n",
       "       [3.47666584e-09, 9.45017874e-09, 1.02199311e-08, ...,\n",
       "        2.91953800e-09, 2.95608907e-09, 1.68487458e-08]])</pre></div></li></ul></div></li><li class='xr-section-item'><input id='section-20337b9d-0b33-4a36-ab7c-f5df7901c1fb' class='xr-section-summary-in' type='checkbox'  ><label for='section-20337b9d-0b33-4a36-ab7c-f5df7901c1fb' class='xr-section-summary' >Indexes: <span>(2)</span></label><div class='xr-section-inline-details'></div><div class='xr-section-details'><ul class='xr-var-list'><li class='xr-var-item'><div class='xr-index-name'><div>time</div></div><div class='xr-index-preview'>PandasIndex</div><div></div><input id='index-7c529f34-8111-43bd-89db-241780a2197f' class='xr-index-data-in' type='checkbox'/><label for='index-7c529f34-8111-43bd-89db-241780a2197f' title='Show/Hide index repr'><svg class='icon xr-icon-database'><use xlink:href='#icon-database'></use></svg></label><div class='xr-index-data'><pre>PandasIndex(CFTimeIndex([0001-02-01 12:00:00, 0001-02-02 12:00:00, 0001-02-03 12:00:00,\n",
       "             0001-02-04 12:00:00, 0001-02-05 12:00:00, 0001-02-06 12:00:00,\n",
       "             0001-02-07 12:00:00, 0001-02-08 12:00:00, 0001-02-09 12:00:00,\n",
       "             0001-02-10 12:00:00,\n",
       "             ...\n",
       "             0005-01-22 12:00:00, 0005-01-23 12:00:00, 0005-01-24 12:00:00,\n",
       "             0005-01-25 12:00:00, 0005-01-26 12:00:00, 0005-01-27 12:00:00,\n",
       "             0005-01-28 12:00:00, 0005-01-29 12:00:00, 0005-01-30 12:00:00,\n",
       "             0005-01-31 12:00:00],\n",
       "            dtype=&#x27;object&#x27;, length=1460, calendar=&#x27;noleap&#x27;, freq=&#x27;D&#x27;))</pre></div></li><li class='xr-var-item'><div class='xr-index-name'><div>ncol</div></div><div class='xr-index-preview'>PandasIndex</div><div></div><input id='index-ad9c7b98-29ef-41fa-b6df-bc1b02cd8ea4' class='xr-index-data-in' type='checkbox'/><label for='index-ad9c7b98-29ef-41fa-b6df-bc1b02cd8ea4' title='Show/Hide index repr'><svg class='icon xr-icon-database'><use xlink:href='#icon-database'></use></svg></label><div class='xr-index-data'><pre>PandasIndex(RangeIndex(start=0, stop=16, step=1, name=&#x27;ncol&#x27;))</pre></div></li></ul></div></li><li class='xr-section-item'><input id='section-6e45ff7a-7cce-440a-939b-8479eb09af8c' class='xr-section-summary-in' type='checkbox'  checked><label for='section-6e45ff7a-7cce-440a-939b-8479eb09af8c' class='xr-section-summary' >Attributes: <span>(3)</span></label><div class='xr-section-inline-details'></div><div class='xr-section-details'><dl class='xr-attrs'><dt><span>calendar :</span></dt><dd>NO_LEAP</dd><dt><span>fv_nphys :</span></dt><dd>2</dd><dt><span>ne :</span></dt><dd>4</dd></dl></div></li></ul></div></div>"
      ],
      "text/plain": [
       "<xarray.Dataset>\n",
       "Dimensions:            (time: 1460, lev: 20, ncol: 16)\n",
       "Coordinates:\n",
       "  * time               (time) object 0001-02-01 12:00:00 ... 0005-01-31 12:00:00\n",
       "  * ncol               (ncol) int64 0 1 2 3 4 5 6 7 8 9 10 11 12 13 14 15\n",
       "    lat                (ncol) float64 -32.59 -35.99 -22.69 ... -25.37 -22.69\n",
       "    lon                (ncol) float64 -39.73 -28.47 -39.56 ... 39.73 28.31 39.56\n",
       "Dimensions without coordinates: lev\n",
       "Data variables:\n",
       "    state_q0001        (time, lev, ncol) float64 1.424e-06 1.455e-06 ... 0.01655\n",
       "    state_t            (time, lev, ncol) float64 257.8 258.9 ... 301.3 299.2\n",
       "    pbuf_SOLIN         (time, ncol) float64 477.9 475.6 476.4 ... 479.3 477.5\n",
       "    pbuf_LHFLX         (time, ncol) float64 77.19 113.1 184.8 ... 16.02 157.0\n",
       "    pbuf_SHFLX         (time, ncol) float64 3.864 9.653 51.89 ... 126.7 21.06\n",
       "    state_ps           (time, ncol) float64 1.011e+05 1.013e+05 ... 9.759e+04\n",
       "    out_state_q0001    (time, lev, ncol) float64 1.424e-06 1.455e-06 ... 0.01653\n",
       "    out_state_t        (time, lev, ncol) float64 257.8 258.9 ... 301.1 299.2\n",
       "    out_cam_out_NETSW  (time, ncol) float64 332.9 313.0 243.3 ... 259.3 268.9\n",
       "    out_cam_out_FLWDS  (time, ncol) float64 354.8 339.1 399.6 ... 407.3 419.9\n",
       "    out_cam_out_PRECC  (time, ncol) float64 2.325e-11 1.05e-09 ... 1.685e-08\n",
       "Attributes:\n",
       "    calendar:  NO_LEAP\n",
       "    fv_nphys:  2\n",
       "    ne:        4"
      ]
     },
     "execution_count": 8,
     "metadata": {},
     "output_type": "execute_result"
    }
   ],
   "source": [
    "ds"
   ]
  },
  {
   "cell_type": "code",
   "execution_count": 24,
   "id": "b096a655-cb34-4d65-811f-2c8c7752e646",
   "metadata": {},
   "outputs": [],
   "source": [
    "def normalize(xarr):\n",
    "    var_means = xarr.mean(dim=['time', 'ncol']) # spatiotemporal mean\n",
    "    var_stds = xarr.std(dim=['time', 'ncol']) # spatiotemporal meana\n",
    "    arr = (xarr - var_means) / var_stds\n",
    "    \n",
    "    means = []\n",
    "    stds = []\n",
    "    for var in arr.data_vars:\n",
    "        means.append(var_means[var].values.reshape(-1, 1))\n",
    "        stds.append(var_stds[var].values.reshape(-1, 1))\n",
    "    return(arr, np.vstack(means)[:, 0], np.vstack(stds)[:,0])\n",
    "\n",
    "ds_mean, mu, sigma = normalize(ds)"
   ]
  },
  {
   "cell_type": "code",
   "execution_count": 134,
   "id": "8bfc11cd-56a8-48e6-821f-576926b15dd1",
   "metadata": {},
   "outputs": [],
   "source": [
    "train = ds_mean.isel(time = slice(0, 3 * 365 + 1))\n",
    "test = ds_mean.isel(time = slice(3*365 + 1, 4*365))"
   ]
  },
  {
   "cell_type": "markdown",
   "id": "1c2e784e-b3aa-46ab-b981-67ff5eb6270e",
   "metadata": {
    "tags": []
   },
   "source": [
    "#### Tensorflow"
   ]
  },
  {
   "cell_type": "code",
   "execution_count": 122,
   "id": "ca7ffc96-d45e-45ad-90f9-23e037531b0d",
   "metadata": {},
   "outputs": [
    {
     "ename": "ModuleNotFoundError",
     "evalue": "No module named 'tensorflow'",
     "output_type": "error",
     "traceback": [
      "\u001b[0;31m---------------------------------------------------------------------------\u001b[0m",
      "\u001b[0;31mModuleNotFoundError\u001b[0m                       Traceback (most recent call last)",
      "Cell \u001b[0;32mIn[122], line 1\u001b[0m\n\u001b[0;32m----> 1\u001b[0m \u001b[38;5;28;01mimport\u001b[39;00m \u001b[38;5;21;01mtensorflow\u001b[39;00m \u001b[38;5;28;01mas\u001b[39;00m \u001b[38;5;21;01mtf\u001b[39;00m\n\u001b[1;32m      2\u001b[0m \u001b[38;5;28;01mfrom\u001b[39;00m \u001b[38;5;21;01mtensorflow\u001b[39;00m \u001b[38;5;28;01mimport\u001b[39;00m keras\n\u001b[1;32m      3\u001b[0m \u001b[38;5;28;01mfrom\u001b[39;00m \u001b[38;5;21;01mtensorflow\u001b[39;00m\u001b[38;5;21;01m.\u001b[39;00m\u001b[38;5;21;01mkeras\u001b[39;00m\u001b[38;5;21;01m.\u001b[39;00m\u001b[38;5;21;01mmodels\u001b[39;00m \u001b[38;5;28;01mimport\u001b[39;00m Model, load_model\n",
      "\u001b[0;31mModuleNotFoundError\u001b[0m: No module named 'tensorflow'"
     ]
    }
   ],
   "source": [
    "import tensorflow as tf\n",
    "from tensorflow import keras\n",
    "from tensorflow.keras.models import Model, load_model\n",
    "from tensorflow.keras.layers import *\n",
    "from tensorflow.keras import Sequential"
   ]
  },
  {
   "cell_type": "code",
   "execution_count": 86,
   "id": "d22c8b17-5c82-4cd9-baca-ee786a3b6bea",
   "metadata": {},
   "outputs": [],
   "source": [
    "def load_tf_dataset(ds):\n",
    "    def gen():\n",
    "        i = 0\n",
    "        X, Y = split_input_output(ds)\n",
    "        while(i < ds.time.size * ds.ncol.size):\n",
    "            t, col = i // ds.ncol.size, i % ds.ncol.size\n",
    "            x = X.isel(time=t, ncol=[col])\n",
    "            y = Y.isel(time=t, ncol=[col])\n",
    "\n",
    "            x = x.to_stacked_array(\"v\", sample_dims=[\"ncol\"]).values\n",
    "            y = y.to_stacked_array(\"v\", sample_dims=[\"ncol\"]).values\n",
    "\n",
    "            yield x[0], y[0]\n",
    "            i += 1\n",
    "    return tf.data.Dataset.from_generator(gen, output_types=(tf.float64, tf.float64), \n",
    "                                    output_shapes=((44,), (43,)))"
   ]
  },
  {
   "cell_type": "code",
   "execution_count": 135,
   "id": "4344fbbd-341b-40a6-8ab9-f241936d349c",
   "metadata": {},
   "outputs": [],
   "source": [
    "X_train, Y_train = split_input_output(train)\n",
    "X_test, Y_test = split_input_output(test)"
   ]
  },
  {
   "cell_type": "code",
   "execution_count": 3,
   "id": "025b8f4c-638a-41b8-a7eb-bd2bf16cfe8f",
   "metadata": {},
   "outputs": [
    {
     "ename": "NameError",
     "evalue": "name 'X_train' is not defined",
     "output_type": "error",
     "traceback": [
      "\u001b[0;31m---------------------------------------------------------------------------\u001b[0m",
      "\u001b[0;31mNameError\u001b[0m                                 Traceback (most recent call last)",
      "Cell \u001b[0;32mIn[3], line 1\u001b[0m\n\u001b[0;32m----> 1\u001b[0m X_train_np \u001b[38;5;241m=\u001b[39m \u001b[43mX_train\u001b[49m\u001b[38;5;241m.\u001b[39mto_stacked_array(\u001b[38;5;124m\"\u001b[39m\u001b[38;5;124mv\u001b[39m\u001b[38;5;124m\"\u001b[39m, sample_dims\u001b[38;5;241m=\u001b[39m[\u001b[38;5;124m\"\u001b[39m\u001b[38;5;124mncol\u001b[39m\u001b[38;5;124m\"\u001b[39m, \u001b[38;5;124m'\u001b[39m\u001b[38;5;124mtime\u001b[39m\u001b[38;5;124m'\u001b[39m])\u001b[38;5;241m.\u001b[39mvalues\u001b[38;5;241m.\u001b[39mreshape(\u001b[38;5;241m-\u001b[39m\u001b[38;5;241m1\u001b[39m, \u001b[38;5;241m44\u001b[39m)\n\u001b[1;32m      2\u001b[0m Y_train_np \u001b[38;5;241m=\u001b[39m Y_train\u001b[38;5;241m.\u001b[39mto_stacked_array(\u001b[38;5;124m\"\u001b[39m\u001b[38;5;124mv\u001b[39m\u001b[38;5;124m\"\u001b[39m, sample_dims\u001b[38;5;241m=\u001b[39m[\u001b[38;5;124m\"\u001b[39m\u001b[38;5;124mncol\u001b[39m\u001b[38;5;124m\"\u001b[39m, \u001b[38;5;124m'\u001b[39m\u001b[38;5;124mtime\u001b[39m\u001b[38;5;124m'\u001b[39m])\u001b[38;5;241m.\u001b[39mvalues\u001b[38;5;241m.\u001b[39mreshape(\u001b[38;5;241m-\u001b[39m\u001b[38;5;241m1\u001b[39m, \u001b[38;5;241m43\u001b[39m)\n\u001b[1;32m      4\u001b[0m X_test_np \u001b[38;5;241m=\u001b[39m X_test\u001b[38;5;241m.\u001b[39mto_stacked_array(\u001b[38;5;124m\"\u001b[39m\u001b[38;5;124mv\u001b[39m\u001b[38;5;124m\"\u001b[39m, sample_dims\u001b[38;5;241m=\u001b[39m[\u001b[38;5;124m\"\u001b[39m\u001b[38;5;124mncol\u001b[39m\u001b[38;5;124m\"\u001b[39m, \u001b[38;5;124m'\u001b[39m\u001b[38;5;124mtime\u001b[39m\u001b[38;5;124m'\u001b[39m])\u001b[38;5;241m.\u001b[39mvalues\u001b[38;5;241m.\u001b[39mreshape(\u001b[38;5;241m-\u001b[39m\u001b[38;5;241m1\u001b[39m, \u001b[38;5;241m44\u001b[39m)\n",
      "\u001b[0;31mNameError\u001b[0m: name 'X_train' is not defined"
     ]
    }
   ],
   "source": [
    "X_train_np = X_train.to_stacked_array(\"v\", sample_dims=[\"ncol\", 'time']).values.reshape(-1, 44)\n",
    "Y_train_np = Y_train.to_stacked_array(\"v\", sample_dims=[\"ncol\", 'time']).values.reshape(-1, 43)\n",
    "\n",
    "X_test_np = X_test.to_stacked_array(\"v\", sample_dims=[\"ncol\", 'time']).values.reshape(-1, 44)\n",
    "Y_test_np = Y_test.to_stacked_array(\"v\", sample_dims=[\"ncol\", 'time']).values.reshape(-1, 43)"
   ]
  },
  {
   "cell_type": "code",
   "execution_count": 1,
   "id": "adc1be89-cc1a-46c6-9aa8-3bdbdf8e5cfe",
   "metadata": {},
   "outputs": [
    {
     "ename": "NameError",
     "evalue": "name 'X_train_np' is not defined",
     "output_type": "error",
     "traceback": [
      "\u001b[0;31m---------------------------------------------------------------------------\u001b[0m",
      "\u001b[0;31mNameError\u001b[0m                                 Traceback (most recent call last)",
      "Cell \u001b[0;32mIn[1], line 1\u001b[0m\n\u001b[0;32m----> 1\u001b[0m \u001b[38;5;28mprint\u001b[39m(\u001b[43mX_train_np\u001b[49m\u001b[38;5;241m.\u001b[39mshape)\n\u001b[1;32m      2\u001b[0m \u001b[38;5;28mprint\u001b[39m(Y_train_np\u001b[38;5;241m.\u001b[39mshape)\n",
      "\u001b[0;31mNameError\u001b[0m: name 'X_train_np' is not defined"
     ]
    }
   ],
   "source": [
    "print(X_train_np.shape)\n",
    "print(Y_train_np.shape)"
   ]
  },
  {
   "cell_type": "code",
   "execution_count": 2,
   "id": "939c1284-283b-42c1-a1d3-8f85092db228",
   "metadata": {},
   "outputs": [
    {
     "ename": "NameError",
     "evalue": "name 'X_test_np' is not defined",
     "output_type": "error",
     "traceback": [
      "\u001b[0;31m---------------------------------------------------------------------------\u001b[0m",
      "\u001b[0;31mNameError\u001b[0m                                 Traceback (most recent call last)",
      "Cell \u001b[0;32mIn[2], line 1\u001b[0m\n\u001b[0;32m----> 1\u001b[0m \u001b[38;5;28mprint\u001b[39m(\u001b[43mX_test_np\u001b[49m\u001b[38;5;241m.\u001b[39mshape)\n\u001b[1;32m      2\u001b[0m \u001b[38;5;28mprint\u001b[39m(Y_test_np\u001b[38;5;241m.\u001b[39mshape)\n",
      "\u001b[0;31mNameError\u001b[0m: name 'X_test_np' is not defined"
     ]
    }
   ],
   "source": [
    "print(X_test_np.shape)\n",
    "print(Y_test_np.shape)"
   ]
  },
  {
   "cell_type": "code",
   "execution_count": 87,
   "id": "89039a75-92f0-4b5a-8013-8639bbf636b3",
   "metadata": {},
   "outputs": [],
   "source": [
    "train_ds = load_tf_dataset(train)."
   ]
  },
  {
   "cell_type": "code",
   "execution_count": 94,
   "id": "0afb6b8c-4d96-4618-b769-cc9ddcee0f70",
   "metadata": {},
   "outputs": [],
   "source": [
    "batches = iter(train_ds.shuffle(96).repeat().batch(32))\n"
   ]
  },
  {
   "cell_type": "code",
   "execution_count": 101,
   "id": "e4ed2f17-0654-422e-a992-7976cc778d15",
   "metadata": {},
   "outputs": [],
   "source": [
    "early_stop = keras.callbacks.EarlyStopping(monitor='val_loss', patience=20)"
   ]
  },
  {
   "cell_type": "code",
   "execution_count": null,
   "id": "d7c3c429-3a17-4953-9a56-f9cd192de16e",
   "metadata": {},
   "outputs": [],
   "source": []
  },
  {
   "cell_type": "markdown",
   "id": "e4275ae4-38ee-4d43-b0b2-8f7f0970e33f",
   "metadata": {},
   "source": [
    "#### Pytorch since TF not working"
   ]
  },
  {
   "cell_type": "code",
   "execution_count": 9,
   "id": "8555c8aa-f629-414e-aa7f-352c1d9ef8bb",
   "metadata": {},
   "outputs": [],
   "source": [
    "import torch\n",
    "from torch import nn\n",
    "from torch.utils.data import Dataset, DataLoader"
   ]
  },
  {
   "cell_type": "code",
   "execution_count": 31,
   "id": "0d44e473-2dd6-4c66-8e14-f63c59450347",
   "metadata": {},
   "outputs": [],
   "source": [
    "device = \"cuda\" if torch.cuda.is_available() else \"cpu\""
   ]
  },
  {
   "cell_type": "code",
   "execution_count": 21,
   "id": "20026d41-9bea-4f9d-9cfc-dcd61d0bdb78",
   "metadata": {},
   "outputs": [],
   "source": [
    "class MyDataset(Dataset):\n",
    "    def __init__(self, ds, device = \"cuda\" if torch.cuda.is_available() else \"cpu\"):\n",
    "        self.ds = ds\n",
    "        self.X_ds, self.Y_ds = split_input_output(ds)\n",
    "        self.device = device\n",
    "        \n",
    "        self.X_norm, self.X_mean, self.X_std = normalize(self.X_ds)\n",
    "        self.Y_norm, self.Y_mean, self.Y_std = normalize(self.Y_ds)\n",
    "        \n",
    "    def __len__(self):\n",
    "        return( self.ds.time.size * self.ds.ncol.size )\n",
    "    \n",
    "    def __getitem__(self, idx):\n",
    "        t, col = idx // self.ds.ncol.size, idx % self.ds.ncol.size\n",
    "        X = self.X_norm.isel(time=t, ncol=[col])\n",
    "        Y = self.Y_norm.isel(time=t, ncol=[col])\n",
    "        \n",
    "        X = X.to_stacked_array(\"v\", sample_dims=[\"ncol\"]).values\n",
    "        Y = Y.to_stacked_array(\"v\", sample_dims=[\"ncol\"]).values\n",
    "        \n",
    "        X = torch.as_tensor(X, device=self.device, dtype=torch.float32)\n",
    "        Y = torch.as_tensor(Y, device=self.device, dtype=torch.float32)\n",
    "        return(X.flatten(), Y.flatten())"
   ]
  },
  {
   "cell_type": "code",
   "execution_count": 32,
   "id": "eced9b21-95a0-4c4f-a170-043ba70d14f7",
   "metadata": {},
   "outputs": [],
   "source": [
    "dataset = MyDataset(train, device)"
   ]
  },
  {
   "cell_type": "markdown",
   "id": "c7dcb675-68c8-43f2-90b7-3ac215596450",
   "metadata": {},
   "source": [
    "# Training Pytorch model"
   ]
  },
  {
   "cell_type": "markdown",
   "id": "02e431eb-7777-4ed4-8a2c-8d836796f4e8",
   "metadata": {},
   "source": [
    "### Linear Model"
   ]
  },
  {
   "cell_type": "code",
   "execution_count": 142,
   "id": "92c73ca6-d682-43c0-8dd4-6ba4fff2a23f",
   "metadata": {},
   "outputs": [
    {
     "data": {
      "text/plain": [
       "548.0"
      ]
     },
     "execution_count": 142,
     "metadata": {},
     "output_type": "execute_result"
    }
   ],
   "source": [
    "len(X_train_np) / 32"
   ]
  },
  {
   "cell_type": "code",
   "execution_count": 18,
   "id": "30bffeff-2eeb-49cf-9535-ee0d73da405f",
   "metadata": {},
   "outputs": [],
   "source": [
    "# set hyperparameters\n",
    "insize = 44\n",
    "outsize = 43\n",
    "n_neuron       = 32\n",
    "num_epochs     = 30\n",
    "learning_rate  = 0.005\n",
    "minibatch_size = 32\n",
    "model_num      = 1\n",
    "N_layers       = 1 # number of hidden layers"
   ]
  },
  {
   "cell_type": "code",
   "execution_count": 174,
   "id": "b34e658b-fa12-4084-b497-b2cbbc430dca",
   "metadata": {},
   "outputs": [],
   "source": [
    "class LinearModel(nn.Module):\n",
    "    def __init__(self, insize=44, outsize=43):\n",
    "        super(LinearModel, self).__init__()\n",
    "        # set hyperparameters\n",
    "        n_neuron       = 32\n",
    "        model_num      = 1\n",
    "        N_layers       = 1 # number of hidden layers\n",
    "        \n",
    "        self.linears = torch.nn.Sequential(torch.nn.Linear(insize, n_neuron))\n",
    "        for i in range(N_layers):\n",
    "            self.linears.append(torch.nn.Linear(n_neuron, n_neuron))\n",
    "        self.linears.append(torch.nn.Linear(n_neuron, outsize))\n",
    "    \n",
    "    def forward(self, x):\n",
    "        return(self.linears(x))\n"
   ]
  },
  {
   "cell_type": "code",
   "execution_count": 206,
   "id": "d4ded28d-7ff4-4d91-bc76-3e1e0159ba9a",
   "metadata": {},
   "outputs": [
    {
     "data": {
      "text/plain": [
       "LinearModel(\n",
       "  (linears): Sequential(\n",
       "    (0): Linear(in_features=44, out_features=32, bias=True)\n",
       "    (1): Linear(in_features=32, out_features=32, bias=True)\n",
       "    (2): Linear(in_features=32, out_features=43, bias=True)\n",
       "  )\n",
       ")"
      ]
     },
     "execution_count": 206,
     "metadata": {},
     "output_type": "execute_result"
    }
   ],
   "source": [
    "linear_model = LinearModel().to(device)\n",
    "linear_model"
   ]
  },
  {
   "cell_type": "code",
   "execution_count": 178,
   "id": "3a56fc77-9f75-4584-a8d8-a3e855dabf44",
   "metadata": {},
   "outputs": [
    {
     "data": {
      "text/plain": [
       "1.0456288040474413"
      ]
     },
     "execution_count": 178,
     "metadata": {},
     "output_type": "execute_result"
    }
   ],
   "source": [
    "((y - y_hat.cpu().detach().numpy()) ** 2).mean()"
   ]
  },
  {
   "cell_type": "code",
   "execution_count": 229,
   "id": "0299b19d-4ff4-4e4c-844b-2635ba57d964",
   "metadata": {},
   "outputs": [],
   "source": [
    "import sys\n",
    "def train_model(model, num_epochs=10, learning_rate=0.001, minibatch_size=32):\n",
    "    \n",
    "    loss_fn = nn.MSELoss()\n",
    "    optimizer = torch.optim.SGD(model.parameters(), lr=learning_rate)\n",
    "    optimizer.zero_grad()\n",
    "    \n",
    "    losses = []\n",
    "    \n",
    "    dataloader = DataLoader(dataset, shuffle=True, batch_size=minibatch_size)\n",
    "    for epoch in range(num_epochs):\n",
    "        start = time.time()\n",
    "        for batch in range(len(dataloader)):\n",
    "            x = X_train_np[minibatch_size * batch: minibatch_size * (batch + 1), :]\n",
    "            y = Y_train_np[minibatch_size * batch:minibatch_size * (batch + 1), :]\n",
    "            x = torch.tensor(x, device=device, dtype=torch.float32)\n",
    "            y = torch.tensor(y, device=device, dtype=torch.float32)\n",
    "            \n",
    "            y_hat = model(x)\n",
    "            loss = loss_fn(y, y_hat)\n",
    "            loss.backward()\n",
    "            if(batch % 250 == 0):\n",
    "                losses.append(loss.item())\n",
    "            optimizer.step()\n",
    "            optimizer.zero_grad()\n",
    "        \n",
    "        sys.stdout.write(f\"\\rEpoch Number {1 + epoch}, loss: {loss.item()}, epoch time: {(time.time() - start) / 60}        \")  \n",
    "        sys.stdout.flush()\n",
    "    return(model, losses)\n",
    "            \n",
    "    "
   ]
  },
  {
   "cell_type": "code",
   "execution_count": 210,
   "id": "1c015543-ea18-461a-858e-86bf78f4121e",
   "metadata": {},
   "outputs": [
    {
     "name": "stdout",
     "output_type": "stream",
     "text": [
      "Epoch Number 30, loss: 0.19312305748462677, epoch time: 0.008035699526468912        "
     ]
    }
   ],
   "source": [
    "linear_model, losses = train_model(linear_model, 30, 0.001, 32)"
   ]
  },
  {
   "cell_type": "code",
   "execution_count": 211,
   "id": "9090e06c-a4e0-4ffd-adeb-9cecb47898be",
   "metadata": {},
   "outputs": [
    {
     "data": {
      "text/plain": [
       "[<matplotlib.lines.Line2D at 0x7f60c4a8dff0>]"
      ]
     },
     "execution_count": 211,
     "metadata": {},
     "output_type": "execute_result"
    },
    {
     "data": {
      "image/png": "[encoded data removed]",
      "text/plain": [
       "<Figure size 640x480 with 1 Axes>"
      ]
     },
     "metadata": {
      "image/png": {
       "height": 416,
       "width": 554
      }
     },
     "output_type": "display_data"
    }
   ],
   "source": [
    "plt.plot(losses)"
   ]
  },
  {
   "cell_type": "code",
   "execution_count": 247,
   "id": "152aaacf-153a-452e-accb-72cdf68deaa4",
   "metadata": {},
   "outputs": [],
   "source": [
    "torch.save(linear_model, 'saved_data/models/linear_model.pt')"
   ]
  },
  {
   "cell_type": "code",
   "execution_count": 248,
   "id": "3ae7296e-b8eb-4eba-ae39-9e7c56cadd3e",
   "metadata": {},
   "outputs": [],
   "source": [
    "torch.save(ann, 'saved_data/models/ANN_baseline.pt')"
   ]
  },
  {
   "cell_type": "markdown",
   "id": "cc9dd3f4-f22a-420e-9692-7452618994c6",
   "metadata": {},
   "source": [
    "### ANN"
   ]
  },
  {
   "cell_type": "code",
   "execution_count": 230,
   "id": "ad18d07c-0464-4fdf-b935-6bacf13427d7",
   "metadata": {},
   "outputs": [],
   "source": [
    "class ANN(nn.Module):\n",
    "    def __init__(self, insize=44, outsize=43):\n",
    "        super(ANN, self).__init__()\n",
    "        # set hyperparameters\n",
    "        n_neuron       = 32\n",
    "        model_num      = 1\n",
    "        N_layers       = 2 # number of hidden layers\n",
    "        \n",
    "        self.layers = torch.nn.Sequential(torch.nn.Linear(insize, n_neuron), nn.ReLU())\n",
    "        for i in range(N_layers):\n",
    "            self.layers.append(torch.nn.Linear(n_neuron, n_neuron))\n",
    "            self.layers.append(nn.ReLU())\n",
    "        self.layers.append(torch.nn.Linear(n_neuron, outsize))\n",
    "    \n",
    "    def forward(self, x):\n",
    "        return(self.layers(x))"
   ]
  },
  {
   "cell_type": "code",
   "execution_count": 237,
   "id": "2b339e42-bf56-45c7-9ab7-618ccbaa9c3a",
   "metadata": {},
   "outputs": [
    {
     "data": {
      "text/plain": [
       "ANN(\n",
       "  (layers): Sequential(\n",
       "    (0): Linear(in_features=44, out_features=32, bias=True)\n",
       "    (1): ReLU()\n",
       "    (2): Linear(in_features=32, out_features=32, bias=True)\n",
       "    (3): ReLU()\n",
       "    (4): Linear(in_features=32, out_features=32, bias=True)\n",
       "    (5): ReLU()\n",
       "    (6): Linear(in_features=32, out_features=43, bias=True)\n",
       "  )\n",
       ")"
      ]
     },
     "execution_count": 237,
     "metadata": {},
     "output_type": "execute_result"
    }
   ],
   "source": [
    "ann = ANN().to(device)\n",
    "ann"
   ]
  },
  {
   "cell_type": "code",
   "execution_count": 241,
   "id": "8fc7932d-8270-4ce3-9772-d7fc1a78e1c5",
   "metadata": {},
   "outputs": [
    {
     "name": "stdout",
     "output_type": "stream",
     "text": [
      "Epoch Number 100, loss: 0.2822047472000122, epoch time: 0.010386768976847332        "
     ]
    }
   ],
   "source": [
    "ann, losses = train_model(ann, 100, 0.001, 32)"
   ]
  },
  {
   "cell_type": "code",
   "execution_count": 243,
   "id": "de6ad1e0-9dbc-4feb-a6da-5761a2313421",
   "metadata": {},
   "outputs": [],
   "source": [
    "kernel_size = 20\n",
    "kernel = np.ones(kernel_size) / kernel_size"
   ]
  },
  {
   "cell_type": "code",
   "execution_count": 245,
   "id": "f3014910-08d0-480e-8557-a907233c8ee4",
   "metadata": {},
   "outputs": [
    {
     "data": {
      "text/plain": [
       "[<matplotlib.lines.Line2D at 0x7f60c4765db0>]"
      ]
     },
     "execution_count": 245,
     "metadata": {},
     "output_type": "execute_result"
    },
    {
     "data": {
      "image/png": "[encoded data removed]",
      "text/plain": [
       "<Figure size 640x480 with 1 Axes>"
      ]
     },
     "metadata": {
      "image/png": {
       "height": 416,
       "width": 565
      }
     },
     "output_type": "display_data"
    }
   ],
   "source": [
    "plt.plot(np.convolve(losses, kernel, mode='valid'), color=(18/255, 188/255, 156/255))"
   ]
  },
  {
   "cell_type": "code",
   "execution_count": null,
   "id": "265620d8-d7b2-473d-9e20-b38fee5afb0f",
   "metadata": {},
   "outputs": [],
   "source": []
  },
  {
   "cell_type": "code",
   "execution_count": null,
   "id": "bc501aa0-880b-4f03-aee6-ab186d650646",
   "metadata": {},
   "outputs": [],
   "source": []
  },
  {
   "cell_type": "markdown",
   "id": "dede278b-6dbf-4590-98ed-a9d0a04471ba",
   "metadata": {},
   "source": [
    "## Evaluate Models"
   ]
  },
  {
   "cell_type": "code",
   "execution_count": 217,
   "id": "27eeec43-f383-4996-a924-68eae173f247",
   "metadata": {},
   "outputs": [],
   "source": [
    "loss_fn = nn.MSELoss()"
   ]
  },
  {
   "cell_type": "code",
   "execution_count": 4,
   "id": "57dc4a1a-f1ad-4db0-8c24-8f18997b2f8e",
   "metadata": {},
   "outputs": [
    {
     "ename": "NameError",
     "evalue": "name 'torch' is not defined",
     "output_type": "error",
     "traceback": [
      "\u001b[0;31m---------------------------------------------------------------------------\u001b[0m",
      "\u001b[0;31mNameError\u001b[0m                                 Traceback (most recent call last)",
      "Cell \u001b[0;32mIn[4], line 1\u001b[0m\n\u001b[0;32m----> 1\u001b[0m X_test \u001b[38;5;241m=\u001b[39m \u001b[43mtorch\u001b[49m\u001b[38;5;241m.\u001b[39mtensor(X_test_np, dtype\u001b[38;5;241m=\u001b[39mtorch\u001b[38;5;241m.\u001b[39mfloat32, device\u001b[38;5;241m=\u001b[39mdevice)\n\u001b[1;32m      2\u001b[0m Y_test \u001b[38;5;241m=\u001b[39m torch\u001b[38;5;241m.\u001b[39mtensor(Y_test_np, dtype\u001b[38;5;241m=\u001b[39mtorch\u001b[38;5;241m.\u001b[39mfloat32, device\u001b[38;5;241m=\u001b[39mdevice)\n",
      "\u001b[0;31mNameError\u001b[0m: name 'torch' is not defined"
     ]
    }
   ],
   "source": [
    "X_test = torch.tensor(X_test_np, dtype=torch.float32, device=device)\n",
    "Y_test = torch.tensor(Y_test_np, dtype=torch.float32, device=device)"
   ]
  },
  {
   "cell_type": "code",
   "execution_count": 222,
   "id": "038f70f8-1445-4f38-af19-4351d9d04bd2",
   "metadata": {},
   "outputs": [
    {
     "data": {
      "text/plain": [
       "tensor([[ 1.0065,  0.7734,  0.4620,  ...,  1.6111,  0.1155, -0.5246],\n",
       "        [ 0.9582,  0.7088,  0.4148,  ...,  1.3526, -0.2422, -0.4391],\n",
       "        [ 1.0870,  1.0047,  1.1338,  ...,  0.8680,  1.3709, -0.3100],\n",
       "        ...,\n",
       "        [ 1.4176,  1.1422,  0.7221,  ...,  1.6286,  0.7872, -0.4698],\n",
       "        [ 1.4259,  1.2449,  1.0093,  ...,  0.9083,  1.5267, -0.4690],\n",
       "        [ 1.4302,  1.2864,  1.3022,  ...,  1.0229,  1.9225, -0.1655]],\n",
       "       device='cuda:0')"
      ]
     },
     "execution_count": 222,
     "metadata": {},
     "output_type": "execute_result"
    }
   ],
   "source": [
    "Y_test"
   ]
  },
  {
   "cell_type": "code",
   "execution_count": 223,
   "id": "bfb337c4-977b-4254-b71d-4eea020c7dcc",
   "metadata": {},
   "outputs": [
    {
     "data": {
      "text/plain": [
       "tensor(0.1892, device='cuda:0', grad_fn=<MseLossBackward0>)"
      ]
     },
     "execution_count": 223,
     "metadata": {},
     "output_type": "execute_result"
    }
   ],
   "source": [
    "loss_fn(Y_hat, Y_test)"
   ]
  },
  {
   "cell_type": "markdown",
   "id": "03bd6663-11c1-4211-b62c-5c8844bc74a3",
   "metadata": {
    "tags": []
   },
   "source": [
    "# TF model"
   ]
  },
  {
   "cell_type": "code",
   "execution_count": 125,
   "id": "c0a9385a-c907-492b-bfae-aacf10eebd8e",
   "metadata": {},
   "outputs": [],
   "source": [
    "# set hyperparameters\n",
    "n_neuron       = 32\n",
    "activation     = 'relu'\n",
    "num_epochs     = 30\n",
    "learning_rate  = 0.005\n",
    "minibatch_size = 32\n",
    "model_num      = 1\n",
    "N_layers       = 2 # number of hidden layers"
   ]
  },
  {
   "cell_type": "code",
   "execution_count": 126,
   "id": "b687b023-10c0-4e23-a662-e7292e060480",
   "metadata": {},
   "outputs": [],
   "source": [
    "model = Sequential()\n",
    "\n",
    "model.add(Dense(n_neuron,  activation=activation, name=\"hidden_layer_1\" ,input_shape=(44,)))\n",
    "for n in range(N_layers-1):\n",
    "    model.add(Dense(n_neuron,  activation=activation, name=\"hidden_layer_\"+str(n+2))) \n",
    "\n",
    "model.add(Dense(43,  activation='linear', name=\"output_layer\")) # the output layer\n",
    "\n",
    "\n",
    "model.compile(loss='mse',optimizer=tf.keras.optimizers.Adam(learning_rate=learning_rate))"
   ]
  },
  {
   "cell_type": "code",
   "execution_count": 127,
   "id": "117e7f19-c89b-4609-ab8a-3e6f803f5d09",
   "metadata": {},
   "outputs": [
    {
     "name": "stdout",
     "output_type": "stream",
     "text": [
      "Model: \"sequential_1\"\n",
      "_________________________________________________________________\n",
      " Layer (type)                Output Shape              Param #   \n",
      "=================================================================\n",
      " hidden_layer_1 (Dense)      (None, 32)                1440      \n",
      "                                                                 \n",
      " hidden_layer_2 (Dense)      (None, 32)                1056      \n",
      "                                                                 \n",
      " output_layer (Dense)        (None, 43)                1419      \n",
      "                                                                 \n",
      "=================================================================\n",
      "Total params: 3,915\n",
      "Trainable params: 3,915\n",
      "Non-trainable params: 0\n",
      "_________________________________________________________________\n"
     ]
    }
   ],
   "source": [
    "model.summary()"
   ]
  },
  {
   "cell_type": "markdown",
   "id": "c76cec9d-80e9-4ae0-8d20-a536e319b9fa",
   "metadata": {},
   "source": [
    "### Training Model"
   ]
  },
  {
   "cell_type": "code",
   "execution_count": 131,
   "id": "a54e99fa-2953-4058-8640-d286d41d0492",
   "metadata": {},
   "outputs": [
    {
     "name": "stdout",
     "output_type": "stream",
     "text": [
      "Epoch 1/30\n"
     ]
    },
    {
     "name": "stderr",
     "output_type": "stream",
     "text": [
      "2023-07-25 06:45:43.283656: W tensorflow/core/framework/op_kernel.cc:1830] OP_REQUIRES failed at xla_ops.cc:446 : INTERNAL: libdevice not found at ./libdevice.10.bc\n",
      "2023-07-25 06:45:43.283741: W tensorflow/core/framework/op_kernel.cc:1830] OP_REQUIRES failed at xla_ops.cc:446 : INTERNAL: libdevice not found at ./libdevice.10.bc\n",
      "2023-07-25 06:45:43.283903: W tensorflow/core/framework/op_kernel.cc:1830] OP_REQUIRES failed at xla_ops.cc:446 : INTERNAL: libdevice not found at ./libdevice.10.bc\n",
      "2023-07-25 06:45:43.283967: W tensorflow/core/framework/op_kernel.cc:1830] OP_REQUIRES failed at xla_ops.cc:446 : INTERNAL: libdevice not found at ./libdevice.10.bc\n",
      "2023-07-25 06:45:43.284077: W tensorflow/core/framework/op_kernel.cc:1830] OP_REQUIRES failed at xla_ops.cc:446 : INTERNAL: libdevice not found at ./libdevice.10.bc\n",
      "2023-07-25 06:45:43.284116: W tensorflow/core/framework/op_kernel.cc:1830] OP_REQUIRES failed at xla_ops.cc:446 : INTERNAL: libdevice not found at ./libdevice.10.bc\n"
     ]
    },
    {
     "ename": "InternalError",
     "evalue": "Graph execution error:\n\nDetected at node 'StatefulPartitionedCall_4' defined at (most recent call last):\n    File \"/srv/conda/envs/notebook/lib/python3.10/runpy.py\", line 196, in _run_module_as_main\n      return _run_code(code, main_globals, None,\n    File \"/srv/conda/envs/notebook/lib/python3.10/runpy.py\", line 86, in _run_code\n      exec(code, run_globals)\n    File \"/srv/conda/envs/notebook/lib/python3.10/site-packages/ipykernel_launcher.py\", line 17, in <module>\n      app.launch_new_instance()\n    File \"/srv/conda/envs/notebook/lib/python3.10/site-packages/traitlets/config/application.py\", line 1043, in launch_instance\n      app.start()\n    File \"/srv/conda/envs/notebook/lib/python3.10/site-packages/ipykernel/kernelapp.py\", line 725, in start\n      self.io_loop.start()\n    File \"/srv/conda/envs/notebook/lib/python3.10/site-packages/tornado/platform/asyncio.py\", line 215, in start\n      self.asyncio_loop.run_forever()\n    File \"/srv/conda/envs/notebook/lib/python3.10/asyncio/base_events.py\", line 603, in run_forever\n      self._run_once()\n    File \"/srv/conda/envs/notebook/lib/python3.10/asyncio/base_events.py\", line 1906, in _run_once\n      handle._run()\n    File \"/srv/conda/envs/notebook/lib/python3.10/asyncio/events.py\", line 80, in _run\n      self._context.run(self._callback, *self._args)\n    File \"/srv/conda/envs/notebook/lib/python3.10/site-packages/ipykernel/kernelbase.py\", line 513, in dispatch_queue\n      await self.process_one()\n    File \"/srv/conda/envs/notebook/lib/python3.10/site-packages/ipykernel/kernelbase.py\", line 502, in process_one\n      await dispatch(*args)\n    File \"/srv/conda/envs/notebook/lib/python3.10/site-packages/ipykernel/kernelbase.py\", line 409, in dispatch_shell\n      await result\n    File \"/srv/conda/envs/notebook/lib/python3.10/site-packages/ipykernel/kernelbase.py\", line 729, in execute_request\n      reply_content = await reply_content\n    File \"/srv/conda/envs/notebook/lib/python3.10/site-packages/ipykernel/ipkernel.py\", line 422, in do_execute\n      res = shell.run_cell(\n    File \"/srv/conda/envs/notebook/lib/python3.10/site-packages/ipykernel/zmqshell.py\", line 540, in run_cell\n      return super().run_cell(*args, **kwargs)\n    File \"/srv/conda/envs/notebook/lib/python3.10/site-packages/IPython/core/interactiveshell.py\", line 2961, in run_cell\n      result = self._run_cell(\n    File \"/srv/conda/envs/notebook/lib/python3.10/site-packages/IPython/core/interactiveshell.py\", line 3016, in _run_cell\n      result = runner(coro)\n    File \"/srv/conda/envs/notebook/lib/python3.10/site-packages/IPython/core/async_helpers.py\", line 129, in _pseudo_sync_runner\n      coro.send(None)\n    File \"/srv/conda/envs/notebook/lib/python3.10/site-packages/IPython/core/interactiveshell.py\", line 3221, in run_cell_async\n      has_raised = await self.run_ast_nodes(code_ast.body, cell_name,\n    File \"/srv/conda/envs/notebook/lib/python3.10/site-packages/IPython/core/interactiveshell.py\", line 3400, in run_ast_nodes\n      if await self.run_code(code, result, async_=asy):\n    File \"/srv/conda/envs/notebook/lib/python3.10/site-packages/IPython/core/interactiveshell.py\", line 3460, in run_code\n      exec(code_obj, self.user_global_ns, self.user_ns)\n    File \"/tmp/ipykernel_404/489986324.py\", line 4, in <module>\n      history = model.fit(X_train_np, Y_train_np,\n    File \"/srv/conda/envs/notebook/lib/python3.10/site-packages/keras/utils/traceback_utils.py\", line 65, in error_handler\n      return fn(*args, **kwargs)\n    File \"/srv/conda/envs/notebook/lib/python3.10/site-packages/keras/engine/training.py\", line 1650, in fit\n      tmp_logs = self.train_function(iterator)\n    File \"/srv/conda/envs/notebook/lib/python3.10/site-packages/keras/engine/training.py\", line 1249, in train_function\n      return step_function(self, iterator)\n    File \"/srv/conda/envs/notebook/lib/python3.10/site-packages/keras/engine/training.py\", line 1233, in step_function\n      outputs = model.distribute_strategy.run(run_step, args=(data,))\n    File \"/srv/conda/envs/notebook/lib/python3.10/site-packages/keras/engine/training.py\", line 1222, in run_step\n      outputs = model.train_step(data)\n    File \"/srv/conda/envs/notebook/lib/python3.10/site-packages/keras/engine/training.py\", line 1027, in train_step\n      self.optimizer.minimize(loss, self.trainable_variables, tape=tape)\n    File \"/srv/conda/envs/notebook/lib/python3.10/site-packages/keras/optimizers/optimizer_experimental/optimizer.py\", line 527, in minimize\n      self.apply_gradients(grads_and_vars)\n    File \"/srv/conda/envs/notebook/lib/python3.10/site-packages/keras/optimizers/optimizer_experimental/optimizer.py\", line 1140, in apply_gradients\n      return super().apply_gradients(grads_and_vars, name=name)\n    File \"/srv/conda/envs/notebook/lib/python3.10/site-packages/keras/optimizers/optimizer_experimental/optimizer.py\", line 634, in apply_gradients\n      iteration = self._internal_apply_gradients(grads_and_vars)\n    File \"/srv/conda/envs/notebook/lib/python3.10/site-packages/keras/optimizers/optimizer_experimental/optimizer.py\", line 1166, in _internal_apply_gradients\n      return tf.__internal__.distribute.interim.maybe_merge_call(\n    File \"/srv/conda/envs/notebook/lib/python3.10/site-packages/keras/optimizers/optimizer_experimental/optimizer.py\", line 1216, in _distributed_apply_gradients_fn\n      distribution.extended.update(\n    File \"/srv/conda/envs/notebook/lib/python3.10/site-packages/keras/optimizers/optimizer_experimental/optimizer.py\", line 1211, in apply_grad_to_update_var\n      return self._update_step_xla(grad, var, id(self._var_key(var)))\nNode: 'StatefulPartitionedCall_4'\nlibdevice not found at ./libdevice.10.bc\n\t [[{{node StatefulPartitionedCall_4}}]] [Op:__inference_train_function_1272]",
     "output_type": "error",
     "traceback": [
      "\u001b[0;31m---------------------------------------------------------------------------\u001b[0m",
      "\u001b[0;31mInternalError\u001b[0m                             Traceback (most recent call last)",
      "Cell \u001b[0;32mIn[131], line 4\u001b[0m\n\u001b[1;32m      1\u001b[0m early_stop \u001b[38;5;241m=\u001b[39m keras\u001b[38;5;241m.\u001b[39mcallbacks\u001b[38;5;241m.\u001b[39mEarlyStopping(monitor\u001b[38;5;241m=\u001b[39m\u001b[38;5;124m'\u001b[39m\u001b[38;5;124mval_loss\u001b[39m\u001b[38;5;124m'\u001b[39m, patience\u001b[38;5;241m=\u001b[39m\u001b[38;5;241m20\u001b[39m)\n\u001b[0;32m----> 4\u001b[0m history \u001b[38;5;241m=\u001b[39m \u001b[43mmodel\u001b[49m\u001b[38;5;241;43m.\u001b[39;49m\u001b[43mfit\u001b[49m\u001b[43m(\u001b[49m\u001b[43mX_train_np\u001b[49m\u001b[43m,\u001b[49m\u001b[43m \u001b[49m\u001b[43mY_train_np\u001b[49m\u001b[43m,\u001b[49m\u001b[43m \u001b[49m\n\u001b[1;32m      5\u001b[0m \u001b[43m                    \u001b[49m\u001b[43mbatch_size\u001b[49m\u001b[43m      \u001b[49m\u001b[38;5;241;43m=\u001b[39;49m\u001b[43m \u001b[49m\u001b[43mminibatch_size\u001b[49m\u001b[43m,\u001b[49m\n\u001b[1;32m      6\u001b[0m \u001b[43m                    \u001b[49m\u001b[43mepochs\u001b[49m\u001b[43m          \u001b[49m\u001b[38;5;241;43m=\u001b[39;49m\u001b[43m \u001b[49m\u001b[43mnum_epochs\u001b[49m\u001b[43m,\u001b[49m\n\u001b[1;32m      7\u001b[0m \u001b[43m                    \u001b[49m\u001b[43mvalidation_split\u001b[49m\u001b[38;5;241;43m=\u001b[39;49m\u001b[43m \u001b[49m\u001b[38;5;241;43m0.2\u001b[39;49m\u001b[43m,\u001b[49m\u001b[43m \u001b[49m\n\u001b[1;32m      8\u001b[0m \u001b[43m                    \u001b[49m\u001b[43mverbose\u001b[49m\u001b[43m         \u001b[49m\u001b[38;5;241;43m=\u001b[39;49m\u001b[43m \u001b[49m\u001b[38;5;241;43m1\u001b[39;49m\u001b[43m,\u001b[49m\n\u001b[1;32m      9\u001b[0m \u001b[43m                    \u001b[49m\u001b[43mcallbacks\u001b[49m\u001b[43m       \u001b[49m\u001b[38;5;241;43m=\u001b[39;49m\u001b[43m \u001b[49m\u001b[43m[\u001b[49m\u001b[43mearly_stop\u001b[49m\u001b[43m]\u001b[49m\u001b[43m)\u001b[49m\n",
      "File \u001b[0;32m/srv/conda/envs/notebook/lib/python3.10/site-packages/keras/utils/traceback_utils.py:70\u001b[0m, in \u001b[0;36mfilter_traceback.<locals>.error_handler\u001b[0;34m(*args, **kwargs)\u001b[0m\n\u001b[1;32m     67\u001b[0m     filtered_tb \u001b[38;5;241m=\u001b[39m _process_traceback_frames(e\u001b[38;5;241m.\u001b[39m__traceback__)\n\u001b[1;32m     68\u001b[0m     \u001b[38;5;66;03m# To get the full stack trace, call:\u001b[39;00m\n\u001b[1;32m     69\u001b[0m     \u001b[38;5;66;03m# `tf.debugging.disable_traceback_filtering()`\u001b[39;00m\n\u001b[0;32m---> 70\u001b[0m     \u001b[38;5;28;01mraise\u001b[39;00m e\u001b[38;5;241m.\u001b[39mwith_traceback(filtered_tb) \u001b[38;5;28;01mfrom\u001b[39;00m \u001b[38;5;28mNone\u001b[39m\n\u001b[1;32m     71\u001b[0m \u001b[38;5;28;01mfinally\u001b[39;00m:\n\u001b[1;32m     72\u001b[0m     \u001b[38;5;28;01mdel\u001b[39;00m filtered_tb\n",
      "File \u001b[0;32m/srv/conda/envs/notebook/lib/python3.10/site-packages/tensorflow/python/eager/execute.py:52\u001b[0m, in \u001b[0;36mquick_execute\u001b[0;34m(op_name, num_outputs, inputs, attrs, ctx, name)\u001b[0m\n\u001b[1;32m     50\u001b[0m \u001b[38;5;28;01mtry\u001b[39;00m:\n\u001b[1;32m     51\u001b[0m   ctx\u001b[38;5;241m.\u001b[39mensure_initialized()\n\u001b[0;32m---> 52\u001b[0m   tensors \u001b[38;5;241m=\u001b[39m pywrap_tfe\u001b[38;5;241m.\u001b[39mTFE_Py_Execute(ctx\u001b[38;5;241m.\u001b[39m_handle, device_name, op_name,\n\u001b[1;32m     53\u001b[0m                                       inputs, attrs, num_outputs)\n\u001b[1;32m     54\u001b[0m \u001b[38;5;28;01mexcept\u001b[39;00m core\u001b[38;5;241m.\u001b[39m_NotOkStatusException \u001b[38;5;28;01mas\u001b[39;00m e:\n\u001b[1;32m     55\u001b[0m   \u001b[38;5;28;01mif\u001b[39;00m name \u001b[38;5;129;01mis\u001b[39;00m \u001b[38;5;129;01mnot\u001b[39;00m \u001b[38;5;28;01mNone\u001b[39;00m:\n",
      "\u001b[0;31mInternalError\u001b[0m: Graph execution error:\n\nDetected at node 'StatefulPartitionedCall_4' defined at (most recent call last):\n    File \"/srv/conda/envs/notebook/lib/python3.10/runpy.py\", line 196, in _run_module_as_main\n      return _run_code(code, main_globals, None,\n    File \"/srv/conda/envs/notebook/lib/python3.10/runpy.py\", line 86, in _run_code\n      exec(code, run_globals)\n    File \"/srv/conda/envs/notebook/lib/python3.10/site-packages/ipykernel_launcher.py\", line 17, in <module>\n      app.launch_new_instance()\n    File \"/srv/conda/envs/notebook/lib/python3.10/site-packages/traitlets/config/application.py\", line 1043, in launch_instance\n      app.start()\n    File \"/srv/conda/envs/notebook/lib/python3.10/site-packages/ipykernel/kernelapp.py\", line 725, in start\n      self.io_loop.start()\n    File \"/srv/conda/envs/notebook/lib/python3.10/site-packages/tornado/platform/asyncio.py\", line 215, in start\n      self.asyncio_loop.run_forever()\n    File \"/srv/conda/envs/notebook/lib/python3.10/asyncio/base_events.py\", line 603, in run_forever\n      self._run_once()\n    File \"/srv/conda/envs/notebook/lib/python3.10/asyncio/base_events.py\", line 1906, in _run_once\n      handle._run()\n    File \"/srv/conda/envs/notebook/lib/python3.10/asyncio/events.py\", line 80, in _run\n      self._context.run(self._callback, *self._args)\n    File \"/srv/conda/envs/notebook/lib/python3.10/site-packages/ipykernel/kernelbase.py\", line 513, in dispatch_queue\n      await self.process_one()\n    File \"/srv/conda/envs/notebook/lib/python3.10/site-packages/ipykernel/kernelbase.py\", line 502, in process_one\n      await dispatch(*args)\n    File \"/srv/conda/envs/notebook/lib/python3.10/site-packages/ipykernel/kernelbase.py\", line 409, in dispatch_shell\n      await result\n    File \"/srv/conda/envs/notebook/lib/python3.10/site-packages/ipykernel/kernelbase.py\", line 729, in execute_request\n      reply_content = await reply_content\n    File \"/srv/conda/envs/notebook/lib/python3.10/site-packages/ipykernel/ipkernel.py\", line 422, in do_execute\n      res = shell.run_cell(\n    File \"/srv/conda/envs/notebook/lib/python3.10/site-packages/ipykernel/zmqshell.py\", line 540, in run_cell\n      return super().run_cell(*args, **kwargs)\n    File \"/srv/conda/envs/notebook/lib/python3.10/site-packages/IPython/core/interactiveshell.py\", line 2961, in run_cell\n      result = self._run_cell(\n    File \"/srv/conda/envs/notebook/lib/python3.10/site-packages/IPython/core/interactiveshell.py\", line 3016, in _run_cell\n      result = runner(coro)\n    File \"/srv/conda/envs/notebook/lib/python3.10/site-packages/IPython/core/async_helpers.py\", line 129, in _pseudo_sync_runner\n      coro.send(None)\n    File \"/srv/conda/envs/notebook/lib/python3.10/site-packages/IPython/core/interactiveshell.py\", line 3221, in run_cell_async\n      has_raised = await self.run_ast_nodes(code_ast.body, cell_name,\n    File \"/srv/conda/envs/notebook/lib/python3.10/site-packages/IPython/core/interactiveshell.py\", line 3400, in run_ast_nodes\n      if await self.run_code(code, result, async_=asy):\n    File \"/srv/conda/envs/notebook/lib/python3.10/site-packages/IPython/core/interactiveshell.py\", line 3460, in run_code\n      exec(code_obj, self.user_global_ns, self.user_ns)\n    File \"/tmp/ipykernel_404/489986324.py\", line 4, in <module>\n      history = model.fit(X_train_np, Y_train_np,\n    File \"/srv/conda/envs/notebook/lib/python3.10/site-packages/keras/utils/traceback_utils.py\", line 65, in error_handler\n      return fn(*args, **kwargs)\n    File \"/srv/conda/envs/notebook/lib/python3.10/site-packages/keras/engine/training.py\", line 1650, in fit\n      tmp_logs = self.train_function(iterator)\n    File \"/srv/conda/envs/notebook/lib/python3.10/site-packages/keras/engine/training.py\", line 1249, in train_function\n      return step_function(self, iterator)\n    File \"/srv/conda/envs/notebook/lib/python3.10/site-packages/keras/engine/training.py\", line 1233, in step_function\n      outputs = model.distribute_strategy.run(run_step, args=(data,))\n    File \"/srv/conda/envs/notebook/lib/python3.10/site-packages/keras/engine/training.py\", line 1222, in run_step\n      outputs = model.train_step(data)\n    File \"/srv/conda/envs/notebook/lib/python3.10/site-packages/keras/engine/training.py\", line 1027, in train_step\n      self.optimizer.minimize(loss, self.trainable_variables, tape=tape)\n    File \"/srv/conda/envs/notebook/lib/python3.10/site-packages/keras/optimizers/optimizer_experimental/optimizer.py\", line 527, in minimize\n      self.apply_gradients(grads_and_vars)\n    File \"/srv/conda/envs/notebook/lib/python3.10/site-packages/keras/optimizers/optimizer_experimental/optimizer.py\", line 1140, in apply_gradients\n      return super().apply_gradients(grads_and_vars, name=name)\n    File \"/srv/conda/envs/notebook/lib/python3.10/site-packages/keras/optimizers/optimizer_experimental/optimizer.py\", line 634, in apply_gradients\n      iteration = self._internal_apply_gradients(grads_and_vars)\n    File \"/srv/conda/envs/notebook/lib/python3.10/site-packages/keras/optimizers/optimizer_experimental/optimizer.py\", line 1166, in _internal_apply_gradients\n      return tf.__internal__.distribute.interim.maybe_merge_call(\n    File \"/srv/conda/envs/notebook/lib/python3.10/site-packages/keras/optimizers/optimizer_experimental/optimizer.py\", line 1216, in _distributed_apply_gradients_fn\n      distribution.extended.update(\n    File \"/srv/conda/envs/notebook/lib/python3.10/site-packages/keras/optimizers/optimizer_experimental/optimizer.py\", line 1211, in apply_grad_to_update_var\n      return self._update_step_xla(grad, var, id(self._var_key(var)))\nNode: 'StatefulPartitionedCall_4'\nlibdevice not found at ./libdevice.10.bc\n\t [[{{node StatefulPartitionedCall_4}}]] [Op:__inference_train_function_1272]"
     ]
    }
   ],
   "source": [
    "early_stop = keras.callbacks.EarlyStopping(monitor='val_loss', patience=20)\n",
    "\n",
    "\n",
    "history = model.fit(X_train_np, Y_train_np, \n",
    "                    batch_size      = minibatch_size,\n",
    "                    epochs          = num_epochs,\n",
    "                    validation_split= 0.2, \n",
    "                    verbose         = 1,\n",
    "                    callbacks       = [early_stop])"
   ]
  },
  {
   "cell_type": "code",
   "execution_count": null,
   "id": "492e6de1-741b-4b6d-85f8-11206cd3952c",
   "metadata": {},
   "outputs": [],
   "source": []
  }
 ],
 "metadata": {
  "kernelspec": {
   "display_name": "Python 3 (ipykernel)",
   "language": "python",
   "name": "python3"
  },
  "language_info": {
   "codemirror_mode": {
    "name": "ipython",
    "version": 3
   },
   "file_extension": ".py",
   "mimetype": "text/x-python",
   "name": "python",
   "nbconvert_exporter": "python",
   "pygments_lexer": "ipython3",
   "version": "3.10.12"
  }
 },
 "nbformat": 4,
 "nbformat_minor": 5
}
